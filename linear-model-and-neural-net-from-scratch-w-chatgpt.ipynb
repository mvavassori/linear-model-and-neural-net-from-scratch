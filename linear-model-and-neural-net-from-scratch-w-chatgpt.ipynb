{
 "cells": [
  {
   "cell_type": "markdown",
   "id": "7a53cbf0",
   "metadata": {
    "papermill": {
     "duration": 0.123423,
     "end_time": "2023-02-04T14:32:03.114510",
     "exception": false,
     "start_time": "2023-02-04T14:32:02.991087",
     "status": "completed"
    },
    "tags": []
   },
   "source": [
    "## Introduction"
   ]
  },
  {
   "cell_type": "markdown",
   "id": "77264bd7",
   "metadata": {
    "papermill": {
     "duration": 0.116693,
     "end_time": "2023-02-04T14:32:03.349192",
     "exception": false,
     "start_time": "2023-02-04T14:32:03.232499",
     "status": "completed"
    },
    "tags": []
   },
   "source": [
    "In this notebook we're going to build and train a deep learning model \"from scratch\" -- by which I mean that we're not going to use any pre-built architecture, or optimizers, or data loading frameworks, etc.\n",
    "\n",
    "We'll be assuming you already know the basics of how a neural network works. If you don't, read this notebook first: [How does a neural net really work?\n",
    "](https://www.kaggle.com/code/jhoward/how-does-a-neural-net-really-work). We'll be using Kaggle's [Titanic](https://www.kaggle.com/competitions/titanic/) competition in this notebook, because it's very small and simple, but also has displays many of the tricky real-life issues that we need to handle in most practical projects. (Note, however, that this competition is a small \"learner\" competition on Kaggle, so don't expect to actually see much benefits from using a neural net just yet; that will come once we try our some real competitions!)\n",
    "\n",
    "It's great to be able to run the same notebook on your own machine or Colab, as well as Kaggle. To allow for this, we use this code to download the data as needed when not on Kaggle (see [this notebook](https://www.kaggle.com/code/jhoward/getting-started-with-nlp-for-absolute-beginners/) for details about this technique):"
   ]
  },
  {
   "cell_type": "code",
   "execution_count": 1,
   "id": "fc4618ba",
   "metadata": {
    "execution": {
     "iopub.execute_input": "2023-02-04T14:32:03.594810Z",
     "iopub.status.busy": "2023-02-04T14:32:03.594427Z",
     "iopub.status.idle": "2023-02-04T14:32:03.605513Z",
     "shell.execute_reply": "2023-02-04T14:32:03.604801Z"
    },
    "papermill": {
     "duration": 0.135813,
     "end_time": "2023-02-04T14:32:03.608093",
     "exception": false,
     "start_time": "2023-02-04T14:32:03.472280",
     "status": "completed"
    },
    "tags": []
   },
   "outputs": [],
   "source": [
    "import os\n",
    "from pathlib import Path\n",
    "\n",
    "iskaggle = os.environ.get('KAGGLE_KERNEL_RUN_TYPE', '')\n",
    "if iskaggle: path = Path('../input/titanic')\n",
    "else:\n",
    "    path = Path('titanic')\n",
    "    if not path.exists():\n",
    "        import zipfile,kaggle\n",
    "        kaggle.api.competition_download_cli(str(path))\n",
    "        zipfile.ZipFile(f'{path}.zip').extractall(path)"
   ]
  },
  {
   "cell_type": "markdown",
   "id": "1a9658c5",
   "metadata": {
    "hidden": true,
    "papermill": {
     "duration": 0.121333,
     "end_time": "2023-02-04T14:32:03.851578",
     "exception": false,
     "start_time": "2023-02-04T14:32:03.730245",
     "status": "completed"
    },
    "tags": []
   },
   "source": [
    "Note that the data for Kaggle comps always lives in the `../input` folder. The easiest way to get the path is to click the \"K\" button in the top-right of the Kaggle notebook, click on the folder shown there, and click the copy button.\n",
    "\n",
    "We'll be using *numpy* and *pytorch* for array calculations in this notebook, and *pandas* for working with tabular data, so we'll import them and set them to display using a bit more space than they default to."
   ]
  },
  {
   "cell_type": "code",
   "execution_count": 2,
   "id": "2a6ff6bd",
   "metadata": {
    "execution": {
     "iopub.execute_input": "2023-02-04T14:32:04.099805Z",
     "iopub.status.busy": "2023-02-04T14:32:04.099207Z",
     "iopub.status.idle": "2023-02-04T14:32:05.740982Z",
     "shell.execute_reply": "2023-02-04T14:32:05.739926Z"
    },
    "papermill": {
     "duration": 1.767442,
     "end_time": "2023-02-04T14:32:05.743599",
     "exception": false,
     "start_time": "2023-02-04T14:32:03.976157",
     "status": "completed"
    },
    "tags": []
   },
   "outputs": [],
   "source": [
    "import torch, numpy as np, pandas as pd\n",
    "np.set_printoptions(linewidth=140)\n",
    "torch.set_printoptions(linewidth=140, sci_mode=False, edgeitems=7)\n",
    "pd.set_option('display.width', 140)"
   ]
  },
  {
   "cell_type": "markdown",
   "id": "1a8a0c58",
   "metadata": {
    "heading_collapsed": true,
    "papermill": {
     "duration": 0.125712,
     "end_time": "2023-02-04T14:32:05.992724",
     "exception": false,
     "start_time": "2023-02-04T14:32:05.867012",
     "status": "completed"
    },
    "tags": []
   },
   "source": [
    "## Cleaning the data"
   ]
  },
  {
   "cell_type": "markdown",
   "id": "2fe6472b",
   "metadata": {
    "hidden": true,
    "papermill": {
     "duration": 0.119416,
     "end_time": "2023-02-04T14:32:06.239617",
     "exception": false,
     "start_time": "2023-02-04T14:32:06.120201",
     "status": "completed"
    },
    "tags": []
   },
   "source": [
    "This is a *tabular data* competition -- the data is in the form of a table. It's provided as a Comma Separated Values (CSV) file. We can open it using the *pandas* library, which will create a `DataFrame`."
   ]
  },
  {
   "cell_type": "code",
   "execution_count": 3,
   "id": "be5e95ba",
   "metadata": {
    "execution": {
     "iopub.execute_input": "2023-02-04T14:32:06.484205Z",
     "iopub.status.busy": "2023-02-04T14:32:06.483754Z",
     "iopub.status.idle": "2023-02-04T14:32:06.538558Z",
     "shell.execute_reply": "2023-02-04T14:32:06.537860Z"
    },
    "hidden": true,
    "papermill": {
     "duration": 0.178679,
     "end_time": "2023-02-04T14:32:06.541272",
     "exception": false,
     "start_time": "2023-02-04T14:32:06.362593",
     "status": "completed"
    },
    "scrolled": true,
    "tags": []
   },
   "outputs": [
    {
     "data": {
      "text/html": [
       "<div>\n",
       "<style scoped>\n",
       "    .dataframe tbody tr th:only-of-type {\n",
       "        vertical-align: middle;\n",
       "    }\n",
       "\n",
       "    .dataframe tbody tr th {\n",
       "        vertical-align: top;\n",
       "    }\n",
       "\n",
       "    .dataframe thead th {\n",
       "        text-align: right;\n",
       "    }\n",
       "</style>\n",
       "<table border=\"1\" class=\"dataframe\">\n",
       "  <thead>\n",
       "    <tr style=\"text-align: right;\">\n",
       "      <th></th>\n",
       "      <th>PassengerId</th>\n",
       "      <th>Survived</th>\n",
       "      <th>Pclass</th>\n",
       "      <th>Name</th>\n",
       "      <th>Sex</th>\n",
       "      <th>Age</th>\n",
       "      <th>SibSp</th>\n",
       "      <th>Parch</th>\n",
       "      <th>Ticket</th>\n",
       "      <th>Fare</th>\n",
       "      <th>Cabin</th>\n",
       "      <th>Embarked</th>\n",
       "    </tr>\n",
       "  </thead>\n",
       "  <tbody>\n",
       "    <tr>\n",
       "      <th>0</th>\n",
       "      <td>1</td>\n",
       "      <td>0</td>\n",
       "      <td>3</td>\n",
       "      <td>Braund, Mr. Owen Harris</td>\n",
       "      <td>male</td>\n",
       "      <td>22.0</td>\n",
       "      <td>1</td>\n",
       "      <td>0</td>\n",
       "      <td>A/5 21171</td>\n",
       "      <td>7.2500</td>\n",
       "      <td>NaN</td>\n",
       "      <td>S</td>\n",
       "    </tr>\n",
       "    <tr>\n",
       "      <th>1</th>\n",
       "      <td>2</td>\n",
       "      <td>1</td>\n",
       "      <td>1</td>\n",
       "      <td>Cumings, Mrs. John Bradley (Florence Briggs Th...</td>\n",
       "      <td>female</td>\n",
       "      <td>38.0</td>\n",
       "      <td>1</td>\n",
       "      <td>0</td>\n",
       "      <td>PC 17599</td>\n",
       "      <td>71.2833</td>\n",
       "      <td>C85</td>\n",
       "      <td>C</td>\n",
       "    </tr>\n",
       "    <tr>\n",
       "      <th>2</th>\n",
       "      <td>3</td>\n",
       "      <td>1</td>\n",
       "      <td>3</td>\n",
       "      <td>Heikkinen, Miss. Laina</td>\n",
       "      <td>female</td>\n",
       "      <td>26.0</td>\n",
       "      <td>0</td>\n",
       "      <td>0</td>\n",
       "      <td>STON/O2. 3101282</td>\n",
       "      <td>7.9250</td>\n",
       "      <td>NaN</td>\n",
       "      <td>S</td>\n",
       "    </tr>\n",
       "    <tr>\n",
       "      <th>3</th>\n",
       "      <td>4</td>\n",
       "      <td>1</td>\n",
       "      <td>1</td>\n",
       "      <td>Futrelle, Mrs. Jacques Heath (Lily May Peel)</td>\n",
       "      <td>female</td>\n",
       "      <td>35.0</td>\n",
       "      <td>1</td>\n",
       "      <td>0</td>\n",
       "      <td>113803</td>\n",
       "      <td>53.1000</td>\n",
       "      <td>C123</td>\n",
       "      <td>S</td>\n",
       "    </tr>\n",
       "    <tr>\n",
       "      <th>4</th>\n",
       "      <td>5</td>\n",
       "      <td>0</td>\n",
       "      <td>3</td>\n",
       "      <td>Allen, Mr. William Henry</td>\n",
       "      <td>male</td>\n",
       "      <td>35.0</td>\n",
       "      <td>0</td>\n",
       "      <td>0</td>\n",
       "      <td>373450</td>\n",
       "      <td>8.0500</td>\n",
       "      <td>NaN</td>\n",
       "      <td>S</td>\n",
       "    </tr>\n",
       "    <tr>\n",
       "      <th>...</th>\n",
       "      <td>...</td>\n",
       "      <td>...</td>\n",
       "      <td>...</td>\n",
       "      <td>...</td>\n",
       "      <td>...</td>\n",
       "      <td>...</td>\n",
       "      <td>...</td>\n",
       "      <td>...</td>\n",
       "      <td>...</td>\n",
       "      <td>...</td>\n",
       "      <td>...</td>\n",
       "      <td>...</td>\n",
       "    </tr>\n",
       "    <tr>\n",
       "      <th>886</th>\n",
       "      <td>887</td>\n",
       "      <td>0</td>\n",
       "      <td>2</td>\n",
       "      <td>Montvila, Rev. Juozas</td>\n",
       "      <td>male</td>\n",
       "      <td>27.0</td>\n",
       "      <td>0</td>\n",
       "      <td>0</td>\n",
       "      <td>211536</td>\n",
       "      <td>13.0000</td>\n",
       "      <td>NaN</td>\n",
       "      <td>S</td>\n",
       "    </tr>\n",
       "    <tr>\n",
       "      <th>887</th>\n",
       "      <td>888</td>\n",
       "      <td>1</td>\n",
       "      <td>1</td>\n",
       "      <td>Graham, Miss. Margaret Edith</td>\n",
       "      <td>female</td>\n",
       "      <td>19.0</td>\n",
       "      <td>0</td>\n",
       "      <td>0</td>\n",
       "      <td>112053</td>\n",
       "      <td>30.0000</td>\n",
       "      <td>B42</td>\n",
       "      <td>S</td>\n",
       "    </tr>\n",
       "    <tr>\n",
       "      <th>888</th>\n",
       "      <td>889</td>\n",
       "      <td>0</td>\n",
       "      <td>3</td>\n",
       "      <td>Johnston, Miss. Catherine Helen \"Carrie\"</td>\n",
       "      <td>female</td>\n",
       "      <td>NaN</td>\n",
       "      <td>1</td>\n",
       "      <td>2</td>\n",
       "      <td>W./C. 6607</td>\n",
       "      <td>23.4500</td>\n",
       "      <td>NaN</td>\n",
       "      <td>S</td>\n",
       "    </tr>\n",
       "    <tr>\n",
       "      <th>889</th>\n",
       "      <td>890</td>\n",
       "      <td>1</td>\n",
       "      <td>1</td>\n",
       "      <td>Behr, Mr. Karl Howell</td>\n",
       "      <td>male</td>\n",
       "      <td>26.0</td>\n",
       "      <td>0</td>\n",
       "      <td>0</td>\n",
       "      <td>111369</td>\n",
       "      <td>30.0000</td>\n",
       "      <td>C148</td>\n",
       "      <td>C</td>\n",
       "    </tr>\n",
       "    <tr>\n",
       "      <th>890</th>\n",
       "      <td>891</td>\n",
       "      <td>0</td>\n",
       "      <td>3</td>\n",
       "      <td>Dooley, Mr. Patrick</td>\n",
       "      <td>male</td>\n",
       "      <td>32.0</td>\n",
       "      <td>0</td>\n",
       "      <td>0</td>\n",
       "      <td>370376</td>\n",
       "      <td>7.7500</td>\n",
       "      <td>NaN</td>\n",
       "      <td>Q</td>\n",
       "    </tr>\n",
       "  </tbody>\n",
       "</table>\n",
       "<p>891 rows × 12 columns</p>\n",
       "</div>"
      ],
      "text/plain": [
       "     PassengerId  Survived  Pclass                                               Name     Sex   Age  SibSp  Parch            Ticket  \\\n",
       "0              1         0       3                            Braund, Mr. Owen Harris    male  22.0      1      0         A/5 21171   \n",
       "1              2         1       1  Cumings, Mrs. John Bradley (Florence Briggs Th...  female  38.0      1      0          PC 17599   \n",
       "2              3         1       3                             Heikkinen, Miss. Laina  female  26.0      0      0  STON/O2. 3101282   \n",
       "3              4         1       1       Futrelle, Mrs. Jacques Heath (Lily May Peel)  female  35.0      1      0            113803   \n",
       "4              5         0       3                           Allen, Mr. William Henry    male  35.0      0      0            373450   \n",
       "..           ...       ...     ...                                                ...     ...   ...    ...    ...               ...   \n",
       "886          887         0       2                              Montvila, Rev. Juozas    male  27.0      0      0            211536   \n",
       "887          888         1       1                       Graham, Miss. Margaret Edith  female  19.0      0      0            112053   \n",
       "888          889         0       3           Johnston, Miss. Catherine Helen \"Carrie\"  female   NaN      1      2        W./C. 6607   \n",
       "889          890         1       1                              Behr, Mr. Karl Howell    male  26.0      0      0            111369   \n",
       "890          891         0       3                                Dooley, Mr. Patrick    male  32.0      0      0            370376   \n",
       "\n",
       "        Fare Cabin Embarked  \n",
       "0     7.2500   NaN        S  \n",
       "1    71.2833   C85        C  \n",
       "2     7.9250   NaN        S  \n",
       "3    53.1000  C123        S  \n",
       "4     8.0500   NaN        S  \n",
       "..       ...   ...      ...  \n",
       "886  13.0000   NaN        S  \n",
       "887  30.0000   B42        S  \n",
       "888  23.4500   NaN        S  \n",
       "889  30.0000  C148        C  \n",
       "890   7.7500   NaN        Q  \n",
       "\n",
       "[891 rows x 12 columns]"
      ]
     },
     "execution_count": 3,
     "metadata": {},
     "output_type": "execute_result"
    }
   ],
   "source": [
    "df = pd.read_csv(path/'train.csv')\n",
    "df"
   ]
  },
  {
   "cell_type": "markdown",
   "id": "6b1b7605",
   "metadata": {
    "hidden": true,
    "papermill": {
     "duration": 0.121358,
     "end_time": "2023-02-04T14:32:06.785750",
     "exception": false,
     "start_time": "2023-02-04T14:32:06.664392",
     "status": "completed"
    },
    "tags": []
   },
   "source": [
    "As we learned in the *How does a neural net really work* notebook, we going to want to multiply each column by some coefficients. But we can see in the `Cabin` column that there are `NaN` values, which is how Pandas refers to missing values. We can't multiply something by a missing value!\n",
    "\n",
    "Let's check which columns contain `NaN` values. Pandas' `isna()` function returns `True` (which is treated as `1` when used as a number) for `NaN` values, so we can just add them up for each column:"
   ]
  },
  {
   "cell_type": "code",
   "execution_count": 4,
   "id": "5ece1561",
   "metadata": {
    "execution": {
     "iopub.execute_input": "2023-02-04T14:32:07.037274Z",
     "iopub.status.busy": "2023-02-04T14:32:07.036706Z",
     "iopub.status.idle": "2023-02-04T14:32:07.045016Z",
     "shell.execute_reply": "2023-02-04T14:32:07.044401Z"
    },
    "hidden": true,
    "papermill": {
     "duration": 0.135755,
     "end_time": "2023-02-04T14:32:07.047191",
     "exception": false,
     "start_time": "2023-02-04T14:32:06.911436",
     "status": "completed"
    },
    "tags": []
   },
   "outputs": [
    {
     "data": {
      "text/plain": [
       "PassengerId      0\n",
       "Survived         0\n",
       "Pclass           0\n",
       "Name             0\n",
       "Sex              0\n",
       "Age            177\n",
       "SibSp            0\n",
       "Parch            0\n",
       "Ticket           0\n",
       "Fare             0\n",
       "Cabin          687\n",
       "Embarked         2\n",
       "dtype: int64"
      ]
     },
     "execution_count": 4,
     "metadata": {},
     "output_type": "execute_result"
    }
   ],
   "source": [
    "df.isna().sum()"
   ]
  },
  {
   "cell_type": "markdown",
   "id": "c498c8df",
   "metadata": {
    "hidden": true,
    "papermill": {
     "duration": 0.12176,
     "end_time": "2023-02-04T14:32:07.292317",
     "exception": false,
     "start_time": "2023-02-04T14:32:07.170557",
     "status": "completed"
    },
    "tags": []
   },
   "source": [
    "Notice that by default Pandas sums over columns.\n",
    "\n",
    "We'll need to replace the missing values with something. It doesn't generally matter too much what we choose. We'll use the most common value (the \"*mode*\"). We can use the `mode` function for that. One wrinkle is that it returns more than one row in the case of ties, so we just grab the first row with `iloc[0]`:"
   ]
  },
  {
   "cell_type": "code",
   "execution_count": 5,
   "id": "b705f736",
   "metadata": {
    "execution": {
     "iopub.execute_input": "2023-02-04T14:32:07.542164Z",
     "iopub.status.busy": "2023-02-04T14:32:07.541717Z",
     "iopub.status.idle": "2023-02-04T14:32:07.563838Z",
     "shell.execute_reply": "2023-02-04T14:32:07.563131Z"
    },
    "hidden": true,
    "papermill": {
     "duration": 0.149291,
     "end_time": "2023-02-04T14:32:07.565828",
     "exception": false,
     "start_time": "2023-02-04T14:32:07.416537",
     "status": "completed"
    },
    "tags": []
   },
   "outputs": [
    {
     "data": {
      "text/plain": [
       "PassengerId                      1\n",
       "Survived                       0.0\n",
       "Pclass                         3.0\n",
       "Name           Abbing, Mr. Anthony\n",
       "Sex                           male\n",
       "Age                           24.0\n",
       "SibSp                          0.0\n",
       "Parch                          0.0\n",
       "Ticket                        1601\n",
       "Fare                          8.05\n",
       "Cabin                      B96 B98\n",
       "Embarked                         S\n",
       "Name: 0, dtype: object"
      ]
     },
     "execution_count": 5,
     "metadata": {},
     "output_type": "execute_result"
    }
   ],
   "source": [
    "modes = df.mode().iloc[0]\n",
    "modes"
   ]
  },
  {
   "cell_type": "markdown",
   "id": "4a60d7fd",
   "metadata": {
    "papermill": {
     "duration": 0.152171,
     "end_time": "2023-02-04T14:32:07.844481",
     "exception": false,
     "start_time": "2023-02-04T14:32:07.692310",
     "status": "completed"
    },
    "tags": []
   },
   "source": [
    "*ChatGPT*\n",
    "\n",
    "This line of code calculates the mode (most common value) for each column of the Pandas dataframe df and stores it in a Pandas series called modes.\n",
    "\n",
    "The `mode()` method calculates the mode for each column of the dataframe. The `iloc[0]` method is then used to extract the first (0-th) row of the resulting dataframe, which is the mode for each column, and store it as a series.\n",
    "\n",
    "The resulting modes series contains the most common value for each column, which can be useful for filling missing values in the data or for getting a sense of the distribution of values in the data."
   ]
  },
  {
   "cell_type": "markdown",
   "id": "8599ec85",
   "metadata": {
    "hidden": true,
    "papermill": {
     "duration": 0.122996,
     "end_time": "2023-02-04T14:32:08.101153",
     "exception": false,
     "start_time": "2023-02-04T14:32:07.978157",
     "status": "completed"
    },
    "tags": []
   },
   "source": [
    "BTW, it's never a good idea to use functions without understanding them. So be sure to google for anything you're not familiar with. E.g if you want to learn about `iloc` (which is a very important function indeed!) then Google will give you a link to a [great tutorial](https://www.shanelynn.ie/pandas-iloc-loc-select-rows-and-columns-dataframe/).\n",
    "\n",
    "Now that we've got the mode of each column, we can use `fillna` to replace the missing values with the mode of each column. We'll do it \"in place\" -- meaning that we'll change the dataframe itself, rather than returning a new one."
   ]
  },
  {
   "cell_type": "code",
   "execution_count": 6,
   "id": "d5cbde81",
   "metadata": {
    "execution": {
     "iopub.execute_input": "2023-02-04T14:32:08.346531Z",
     "iopub.status.busy": "2023-02-04T14:32:08.346014Z",
     "iopub.status.idle": "2023-02-04T14:32:08.358749Z",
     "shell.execute_reply": "2023-02-04T14:32:08.357779Z"
    },
    "hidden": true,
    "papermill": {
     "duration": 0.138874,
     "end_time": "2023-02-04T14:32:08.361532",
     "exception": false,
     "start_time": "2023-02-04T14:32:08.222658",
     "status": "completed"
    },
    "tags": []
   },
   "outputs": [],
   "source": [
    "df.fillna(modes, inplace=True)"
   ]
  },
  {
   "cell_type": "markdown",
   "id": "85e3247b",
   "metadata": {
    "hidden": true,
    "papermill": {
     "duration": 0.121525,
     "end_time": "2023-02-04T14:32:08.609660",
     "exception": false,
     "start_time": "2023-02-04T14:32:08.488135",
     "status": "completed"
    },
    "tags": []
   },
   "source": [
    "We can now check there's no missing values left:"
   ]
  },
  {
   "cell_type": "code",
   "execution_count": 7,
   "id": "4fa566d2",
   "metadata": {
    "execution": {
     "iopub.execute_input": "2023-02-04T14:32:08.860525Z",
     "iopub.status.busy": "2023-02-04T14:32:08.860145Z",
     "iopub.status.idle": "2023-02-04T14:32:08.869801Z",
     "shell.execute_reply": "2023-02-04T14:32:08.868683Z"
    },
    "hidden": true,
    "papermill": {
     "duration": 0.136678,
     "end_time": "2023-02-04T14:32:08.872192",
     "exception": false,
     "start_time": "2023-02-04T14:32:08.735514",
     "status": "completed"
    },
    "tags": []
   },
   "outputs": [
    {
     "data": {
      "text/plain": [
       "PassengerId    0\n",
       "Survived       0\n",
       "Pclass         0\n",
       "Name           0\n",
       "Sex            0\n",
       "Age            0\n",
       "SibSp          0\n",
       "Parch          0\n",
       "Ticket         0\n",
       "Fare           0\n",
       "Cabin          0\n",
       "Embarked       0\n",
       "dtype: int64"
      ]
     },
     "execution_count": 7,
     "metadata": {},
     "output_type": "execute_result"
    }
   ],
   "source": [
    "df.isna().sum()"
   ]
  },
  {
   "cell_type": "markdown",
   "id": "36a8feca",
   "metadata": {
    "hidden": true,
    "papermill": {
     "duration": 0.123212,
     "end_time": "2023-02-04T14:32:09.122288",
     "exception": false,
     "start_time": "2023-02-04T14:32:08.999076",
     "status": "completed"
    },
    "tags": []
   },
   "source": [
    "Here's how we get a quick summary of all the numeric columns in the dataset:"
   ]
  },
  {
   "cell_type": "code",
   "execution_count": 8,
   "id": "0d4d5b51",
   "metadata": {
    "execution": {
     "iopub.execute_input": "2023-02-04T14:32:09.372420Z",
     "iopub.status.busy": "2023-02-04T14:32:09.372108Z",
     "iopub.status.idle": "2023-02-04T14:32:09.409837Z",
     "shell.execute_reply": "2023-02-04T14:32:09.408769Z"
    },
    "hidden": true,
    "papermill": {
     "duration": 0.164865,
     "end_time": "2023-02-04T14:32:09.412379",
     "exception": false,
     "start_time": "2023-02-04T14:32:09.247514",
     "status": "completed"
    },
    "tags": []
   },
   "outputs": [
    {
     "data": {
      "text/html": [
       "<div>\n",
       "<style scoped>\n",
       "    .dataframe tbody tr th:only-of-type {\n",
       "        vertical-align: middle;\n",
       "    }\n",
       "\n",
       "    .dataframe tbody tr th {\n",
       "        vertical-align: top;\n",
       "    }\n",
       "\n",
       "    .dataframe thead th {\n",
       "        text-align: right;\n",
       "    }\n",
       "</style>\n",
       "<table border=\"1\" class=\"dataframe\">\n",
       "  <thead>\n",
       "    <tr style=\"text-align: right;\">\n",
       "      <th></th>\n",
       "      <th>PassengerId</th>\n",
       "      <th>Survived</th>\n",
       "      <th>Pclass</th>\n",
       "      <th>Age</th>\n",
       "      <th>SibSp</th>\n",
       "      <th>Parch</th>\n",
       "      <th>Fare</th>\n",
       "    </tr>\n",
       "  </thead>\n",
       "  <tbody>\n",
       "    <tr>\n",
       "      <th>count</th>\n",
       "      <td>891.000000</td>\n",
       "      <td>891.000000</td>\n",
       "      <td>891.000000</td>\n",
       "      <td>891.000000</td>\n",
       "      <td>891.000000</td>\n",
       "      <td>891.000000</td>\n",
       "      <td>891.000000</td>\n",
       "    </tr>\n",
       "    <tr>\n",
       "      <th>mean</th>\n",
       "      <td>446.000000</td>\n",
       "      <td>0.383838</td>\n",
       "      <td>2.308642</td>\n",
       "      <td>28.566970</td>\n",
       "      <td>0.523008</td>\n",
       "      <td>0.381594</td>\n",
       "      <td>32.204208</td>\n",
       "    </tr>\n",
       "    <tr>\n",
       "      <th>std</th>\n",
       "      <td>257.353842</td>\n",
       "      <td>0.486592</td>\n",
       "      <td>0.836071</td>\n",
       "      <td>13.199572</td>\n",
       "      <td>1.102743</td>\n",
       "      <td>0.806057</td>\n",
       "      <td>49.693429</td>\n",
       "    </tr>\n",
       "    <tr>\n",
       "      <th>min</th>\n",
       "      <td>1.000000</td>\n",
       "      <td>0.000000</td>\n",
       "      <td>1.000000</td>\n",
       "      <td>0.420000</td>\n",
       "      <td>0.000000</td>\n",
       "      <td>0.000000</td>\n",
       "      <td>0.000000</td>\n",
       "    </tr>\n",
       "    <tr>\n",
       "      <th>25%</th>\n",
       "      <td>223.500000</td>\n",
       "      <td>0.000000</td>\n",
       "      <td>2.000000</td>\n",
       "      <td>22.000000</td>\n",
       "      <td>0.000000</td>\n",
       "      <td>0.000000</td>\n",
       "      <td>7.910400</td>\n",
       "    </tr>\n",
       "    <tr>\n",
       "      <th>50%</th>\n",
       "      <td>446.000000</td>\n",
       "      <td>0.000000</td>\n",
       "      <td>3.000000</td>\n",
       "      <td>24.000000</td>\n",
       "      <td>0.000000</td>\n",
       "      <td>0.000000</td>\n",
       "      <td>14.454200</td>\n",
       "    </tr>\n",
       "    <tr>\n",
       "      <th>75%</th>\n",
       "      <td>668.500000</td>\n",
       "      <td>1.000000</td>\n",
       "      <td>3.000000</td>\n",
       "      <td>35.000000</td>\n",
       "      <td>1.000000</td>\n",
       "      <td>0.000000</td>\n",
       "      <td>31.000000</td>\n",
       "    </tr>\n",
       "    <tr>\n",
       "      <th>max</th>\n",
       "      <td>891.000000</td>\n",
       "      <td>1.000000</td>\n",
       "      <td>3.000000</td>\n",
       "      <td>80.000000</td>\n",
       "      <td>8.000000</td>\n",
       "      <td>6.000000</td>\n",
       "      <td>512.329200</td>\n",
       "    </tr>\n",
       "  </tbody>\n",
       "</table>\n",
       "</div>"
      ],
      "text/plain": [
       "       PassengerId    Survived      Pclass         Age       SibSp       Parch        Fare\n",
       "count   891.000000  891.000000  891.000000  891.000000  891.000000  891.000000  891.000000\n",
       "mean    446.000000    0.383838    2.308642   28.566970    0.523008    0.381594   32.204208\n",
       "std     257.353842    0.486592    0.836071   13.199572    1.102743    0.806057   49.693429\n",
       "min       1.000000    0.000000    1.000000    0.420000    0.000000    0.000000    0.000000\n",
       "25%     223.500000    0.000000    2.000000   22.000000    0.000000    0.000000    7.910400\n",
       "50%     446.000000    0.000000    3.000000   24.000000    0.000000    0.000000   14.454200\n",
       "75%     668.500000    1.000000    3.000000   35.000000    1.000000    0.000000   31.000000\n",
       "max     891.000000    1.000000    3.000000   80.000000    8.000000    6.000000  512.329200"
      ]
     },
     "execution_count": 8,
     "metadata": {},
     "output_type": "execute_result"
    }
   ],
   "source": [
    "import numpy as np\n",
    "\n",
    "df.describe(include=(np.number)) # #The argument include=(np.number) is used to specify that only numeric columns should be included in the calculation."
   ]
  },
  {
   "cell_type": "markdown",
   "id": "2673c0c6",
   "metadata": {
    "execution": {
     "iopub.execute_input": "2022-05-13T11:02:34.328433Z",
     "iopub.status.busy": "2022-05-13T11:02:34.327999Z",
     "iopub.status.idle": "2022-05-13T11:02:34.336993Z",
     "shell.execute_reply": "2022-05-13T11:02:34.335466Z",
     "shell.execute_reply.started": "2022-05-13T11:02:34.32838Z"
    },
    "hidden": true,
    "papermill": {
     "duration": 0.126085,
     "end_time": "2023-02-04T14:32:09.665285",
     "exception": false,
     "start_time": "2023-02-04T14:32:09.539200",
     "status": "completed"
    },
    "tags": []
   },
   "source": [
    "We can see that `Fare` contains mainly values of around `0` to `30`, but there's a few really big ones. This is very common with fields contain monetary values, and it can cause problems for our model, because once that column is multiplied by a coefficient later, the few rows with really big values will dominate the result.\n",
    "\n",
    "You can see the issue most clearly visually by looking at a histogram, which shows a long tail to the right (and don't forget: if you're not entirely sure what a histogram is, Google \"[histogram tutorial](https://www.google.com/search?q=histogram+tutorial&oq=histogram+tutorial)\" and do a bit of reading before continuing on):"
   ]
  },
  {
   "cell_type": "code",
   "execution_count": 9,
   "id": "f8122602",
   "metadata": {
    "execution": {
     "iopub.execute_input": "2023-02-04T14:32:09.918581Z",
     "iopub.status.busy": "2023-02-04T14:32:09.918000Z",
     "iopub.status.idle": "2023-02-04T14:32:10.154885Z",
     "shell.execute_reply": "2023-02-04T14:32:10.153902Z"
    },
    "hidden": true,
    "papermill": {
     "duration": 0.364909,
     "end_time": "2023-02-04T14:32:10.157524",
     "exception": false,
     "start_time": "2023-02-04T14:32:09.792615",
     "status": "completed"
    },
    "tags": []
   },
   "outputs": [
    {
     "data": {
      "image/png": "[encoded data removed]",
      "text/plain": [
       "<Figure size 432x288 with 1 Axes>"
      ]
     },
     "metadata": {
      "needs_background": "light"
     },
     "output_type": "display_data"
    }
   ],
   "source": [
    "df['Fare'].hist();"
   ]
  },
  {
   "cell_type": "markdown",
   "id": "06142612",
   "metadata": {
    "execution": {
     "iopub.execute_input": "2022-05-13T11:02:34.328433Z",
     "iopub.status.busy": "2022-05-13T11:02:34.327999Z",
     "iopub.status.idle": "2022-05-13T11:02:34.336993Z",
     "shell.execute_reply": "2022-05-13T11:02:34.335466Z",
     "shell.execute_reply.started": "2022-05-13T11:02:34.32838Z"
    },
    "hidden": true,
    "papermill": {
     "duration": 0.125191,
     "end_time": "2023-02-04T14:32:10.406875",
     "exception": false,
     "start_time": "2023-02-04T14:32:10.281684",
     "status": "completed"
    },
    "tags": []
   },
   "source": [
    "To fix this, the most common approach is to take the logarithm, which squishes the big numbers and makes the distribution more reasonable. Note, however, that there are zeros in the `Fare` column, and `log(0)` is infinite -- to fix this, we'll simply add `1` to all values first:"
   ]
  },
  {
   "cell_type": "code",
   "execution_count": 10,
   "id": "5d4e4d33",
   "metadata": {
    "execution": {
     "iopub.execute_input": "2023-02-04T14:32:10.661450Z",
     "iopub.status.busy": "2023-02-04T14:32:10.661101Z",
     "iopub.status.idle": "2023-02-04T14:32:10.667071Z",
     "shell.execute_reply": "2023-02-04T14:32:10.666305Z"
    },
    "hidden": true,
    "papermill": {
     "duration": 0.136546,
     "end_time": "2023-02-04T14:32:10.669146",
     "exception": false,
     "start_time": "2023-02-04T14:32:10.532600",
     "status": "completed"
    },
    "tags": []
   },
   "outputs": [],
   "source": [
    "df['LogFare'] = np.log(df['Fare']+1)"
   ]
  },
  {
   "cell_type": "markdown",
   "id": "327febb2",
   "metadata": {
    "hidden": true,
    "papermill": {
     "duration": 0.136955,
     "end_time": "2023-02-04T14:32:10.966403",
     "exception": false,
     "start_time": "2023-02-04T14:32:10.829448",
     "status": "completed"
    },
    "tags": []
   },
   "source": [
    "The histogram now shows a more even distribution of values without the long tail:"
   ]
  },
  {
   "cell_type": "code",
   "execution_count": 11,
   "id": "edb0738e",
   "metadata": {
    "execution": {
     "iopub.execute_input": "2023-02-04T14:32:11.219867Z",
     "iopub.status.busy": "2023-02-04T14:32:11.219036Z",
     "iopub.status.idle": "2023-02-04T14:32:11.402261Z",
     "shell.execute_reply": "2023-02-04T14:32:11.401313Z"
    },
    "hidden": true,
    "papermill": {
     "duration": 0.311543,
     "end_time": "2023-02-04T14:32:11.404766",
     "exception": false,
     "start_time": "2023-02-04T14:32:11.093223",
     "status": "completed"
    },
    "tags": []
   },
   "outputs": [
    {
     "data": {
      "image/png": "[encoded data removed]",
      "text/plain": [
       "<Figure size 432x288 with 1 Axes>"
      ]
     },
     "metadata": {
      "needs_background": "light"
     },
     "output_type": "display_data"
    }
   ],
   "source": [
    "df['LogFare'].hist();"
   ]
  },
  {
   "cell_type": "markdown",
   "id": "4b69782c",
   "metadata": {
    "hidden": true,
    "papermill": {
     "duration": 0.136608,
     "end_time": "2023-02-04T14:32:11.670275",
     "exception": false,
     "start_time": "2023-02-04T14:32:11.533667",
     "status": "completed"
    },
    "tags": []
   },
   "source": [
    "It looks from the `describe()` output like `Pclass` contains just 3 values, which we can confirm by looking at the [Data Dictionary](https://www.kaggle.com/competitions/titanic/data) (which you should always study carefully for any project!) -- "
   ]
  },
  {
   "cell_type": "code",
   "execution_count": 12,
   "id": "12c05913",
   "metadata": {
    "execution": {
     "iopub.execute_input": "2023-02-04T14:32:11.962938Z",
     "iopub.status.busy": "2023-02-04T14:32:11.962614Z",
     "iopub.status.idle": "2023-02-04T14:32:11.971358Z",
     "shell.execute_reply": "2023-02-04T14:32:11.970672Z"
    },
    "hidden": true,
    "papermill": {
     "duration": 0.158582,
     "end_time": "2023-02-04T14:32:11.974655",
     "exception": false,
     "start_time": "2023-02-04T14:32:11.816073",
     "status": "completed"
    },
    "tags": []
   },
   "outputs": [
    {
     "data": {
      "text/plain": [
       "[1, 2, 3]"
      ]
     },
     "execution_count": 12,
     "metadata": {},
     "output_type": "execute_result"
    }
   ],
   "source": [
    "pclasses = sorted(df.Pclass.unique())\n",
    "pclasses"
   ]
  },
  {
   "cell_type": "markdown",
   "id": "f93bbd88",
   "metadata": {
    "hidden": true,
    "papermill": {
     "duration": 0.130874,
     "end_time": "2023-02-04T14:32:12.240842",
     "exception": false,
     "start_time": "2023-02-04T14:32:12.109968",
     "status": "completed"
    },
    "tags": []
   },
   "source": [
    "Here's how we get a quick summary of all the non-numeric columns in the dataset:"
   ]
  },
  {
   "cell_type": "code",
   "execution_count": 13,
   "id": "89bceccf",
   "metadata": {
    "execution": {
     "iopub.execute_input": "2023-02-04T14:32:12.498945Z",
     "iopub.status.busy": "2023-02-04T14:32:12.498629Z",
     "iopub.status.idle": "2023-02-04T14:32:12.520210Z",
     "shell.execute_reply": "2023-02-04T14:32:12.519395Z"
    },
    "hidden": true,
    "papermill": {
     "duration": 0.152334,
     "end_time": "2023-02-04T14:32:12.522484",
     "exception": false,
     "start_time": "2023-02-04T14:32:12.370150",
     "status": "completed"
    },
    "tags": []
   },
   "outputs": [
    {
     "data": {
      "text/html": [
       "<div>\n",
       "<style scoped>\n",
       "    .dataframe tbody tr th:only-of-type {\n",
       "        vertical-align: middle;\n",
       "    }\n",
       "\n",
       "    .dataframe tbody tr th {\n",
       "        vertical-align: top;\n",
       "    }\n",
       "\n",
       "    .dataframe thead th {\n",
       "        text-align: right;\n",
       "    }\n",
       "</style>\n",
       "<table border=\"1\" class=\"dataframe\">\n",
       "  <thead>\n",
       "    <tr style=\"text-align: right;\">\n",
       "      <th></th>\n",
       "      <th>Name</th>\n",
       "      <th>Sex</th>\n",
       "      <th>Ticket</th>\n",
       "      <th>Cabin</th>\n",
       "      <th>Embarked</th>\n",
       "    </tr>\n",
       "  </thead>\n",
       "  <tbody>\n",
       "    <tr>\n",
       "      <th>count</th>\n",
       "      <td>891</td>\n",
       "      <td>891</td>\n",
       "      <td>891</td>\n",
       "      <td>891</td>\n",
       "      <td>891</td>\n",
       "    </tr>\n",
       "    <tr>\n",
       "      <th>unique</th>\n",
       "      <td>891</td>\n",
       "      <td>2</td>\n",
       "      <td>681</td>\n",
       "      <td>147</td>\n",
       "      <td>3</td>\n",
       "    </tr>\n",
       "    <tr>\n",
       "      <th>top</th>\n",
       "      <td>Braund, Mr. Owen Harris</td>\n",
       "      <td>male</td>\n",
       "      <td>347082</td>\n",
       "      <td>B96 B98</td>\n",
       "      <td>S</td>\n",
       "    </tr>\n",
       "    <tr>\n",
       "      <th>freq</th>\n",
       "      <td>1</td>\n",
       "      <td>577</td>\n",
       "      <td>7</td>\n",
       "      <td>691</td>\n",
       "      <td>646</td>\n",
       "    </tr>\n",
       "  </tbody>\n",
       "</table>\n",
       "</div>"
      ],
      "text/plain": [
       "                           Name   Sex  Ticket    Cabin Embarked\n",
       "count                       891   891     891      891      891\n",
       "unique                      891     2     681      147        3\n",
       "top     Braund, Mr. Owen Harris  male  347082  B96 B98        S\n",
       "freq                          1   577       7      691      646"
      ]
     },
     "execution_count": 13,
     "metadata": {},
     "output_type": "execute_result"
    }
   ],
   "source": [
    "df.describe(include=[object])"
   ]
  },
  {
   "cell_type": "markdown",
   "id": "d9adfb43",
   "metadata": {
    "hidden": true,
    "papermill": {
     "duration": 0.12641,
     "end_time": "2023-02-04T14:32:12.777222",
     "exception": false,
     "start_time": "2023-02-04T14:32:12.650812",
     "status": "completed"
    },
    "tags": []
   },
   "source": [
    "Clearly we can't multiply strings like `male` or `S` by coefficients, so we need to replace those with numbers.\n",
    "\n",
    "We do that by creating new columns containing *dummy variables*. A dummy variable is a column that contains a `1` where a particular column contains a particular value, or a `0` otherwise. For instance, we could create a dummy variable for `Sex='male'`, which would be a new column containing `1` for rows where `Sex` is `'male'`, and 0 for rows where it isn't.\n",
    "\n",
    "Pandas can create these automatically using `get_dummies`, which also remove the original columns. We'll create dummy variables for `Pclass`, even although it's numeric, since the numbers `1`, `2`, and `3` correspond to first, second, and third class cabins - not to counts or measures that make sense to multiply by. We'll also create dummies for `Sex` and `Embarked` since we'll want to use those as predictors in our model. On the other hand, `Cabin`, `Name`, and `Ticket` have too many unique values for it to make sense creating dummy variables for them."
   ]
  },
  {
   "cell_type": "code",
   "execution_count": 14,
   "id": "9a49948c",
   "metadata": {
    "execution": {
     "iopub.execute_input": "2023-02-04T14:32:13.043523Z",
     "iopub.status.busy": "2023-02-04T14:32:13.042547Z",
     "iopub.status.idle": "2023-02-04T14:32:13.057785Z",
     "shell.execute_reply": "2023-02-04T14:32:13.056500Z"
    },
    "hidden": true,
    "papermill": {
     "duration": 0.153749,
     "end_time": "2023-02-04T14:32:13.060448",
     "exception": false,
     "start_time": "2023-02-04T14:32:12.906699",
     "status": "completed"
    },
    "tags": []
   },
   "outputs": [
    {
     "data": {
      "text/plain": [
       "Index(['PassengerId', 'Survived', 'Name', 'Age', 'SibSp', 'Parch', 'Ticket', 'Fare', 'Cabin', 'LogFare', 'Sex_female', 'Sex_male',\n",
       "       'Pclass_1', 'Pclass_2', 'Pclass_3', 'Embarked_C', 'Embarked_Q', 'Embarked_S'],\n",
       "      dtype='object')"
      ]
     },
     "execution_count": 14,
     "metadata": {},
     "output_type": "execute_result"
    }
   ],
   "source": [
    "df = pd.get_dummies(df, columns=[\"Sex\",\"Pclass\",\"Embarked\"])\n",
    "df.columns"
   ]
  },
  {
   "cell_type": "markdown",
   "id": "d5cb941a",
   "metadata": {
    "hidden": true,
    "papermill": {
     "duration": 0.126115,
     "end_time": "2023-02-04T14:32:13.322167",
     "exception": false,
     "start_time": "2023-02-04T14:32:13.196052",
     "status": "completed"
    },
    "tags": []
   },
   "source": [
    "We can see that 5 columns have been added to the end -- one for each of the possible values of each of the three columns we requested, and that those three requested columns have been removed.\n",
    "\n",
    "Here's what the first few rows of those newly added columns look like:"
   ]
  },
  {
   "cell_type": "code",
   "execution_count": 15,
   "id": "ad763447",
   "metadata": {
    "execution": {
     "iopub.execute_input": "2023-02-04T14:32:13.584224Z",
     "iopub.status.busy": "2023-02-04T14:32:13.583901Z",
     "iopub.status.idle": "2023-02-04T14:32:13.598088Z",
     "shell.execute_reply": "2023-02-04T14:32:13.597080Z"
    },
    "hidden": true,
    "papermill": {
     "duration": 0.148,
     "end_time": "2023-02-04T14:32:13.600514",
     "exception": false,
     "start_time": "2023-02-04T14:32:13.452514",
     "status": "completed"
    },
    "tags": []
   },
   "outputs": [
    {
     "data": {
      "text/html": [
       "<div>\n",
       "<style scoped>\n",
       "    .dataframe tbody tr th:only-of-type {\n",
       "        vertical-align: middle;\n",
       "    }\n",
       "\n",
       "    .dataframe tbody tr th {\n",
       "        vertical-align: top;\n",
       "    }\n",
       "\n",
       "    .dataframe thead th {\n",
       "        text-align: right;\n",
       "    }\n",
       "</style>\n",
       "<table border=\"1\" class=\"dataframe\">\n",
       "  <thead>\n",
       "    <tr style=\"text-align: right;\">\n",
       "      <th></th>\n",
       "      <th>Sex_male</th>\n",
       "      <th>Sex_female</th>\n",
       "      <th>Pclass_1</th>\n",
       "      <th>Pclass_2</th>\n",
       "      <th>Pclass_3</th>\n",
       "      <th>Embarked_C</th>\n",
       "      <th>Embarked_Q</th>\n",
       "      <th>Embarked_S</th>\n",
       "    </tr>\n",
       "  </thead>\n",
       "  <tbody>\n",
       "    <tr>\n",
       "      <th>0</th>\n",
       "      <td>1</td>\n",
       "      <td>0</td>\n",
       "      <td>0</td>\n",
       "      <td>0</td>\n",
       "      <td>1</td>\n",
       "      <td>0</td>\n",
       "      <td>0</td>\n",
       "      <td>1</td>\n",
       "    </tr>\n",
       "    <tr>\n",
       "      <th>1</th>\n",
       "      <td>0</td>\n",
       "      <td>1</td>\n",
       "      <td>1</td>\n",
       "      <td>0</td>\n",
       "      <td>0</td>\n",
       "      <td>1</td>\n",
       "      <td>0</td>\n",
       "      <td>0</td>\n",
       "    </tr>\n",
       "    <tr>\n",
       "      <th>2</th>\n",
       "      <td>0</td>\n",
       "      <td>1</td>\n",
       "      <td>0</td>\n",
       "      <td>0</td>\n",
       "      <td>1</td>\n",
       "      <td>0</td>\n",
       "      <td>0</td>\n",
       "      <td>1</td>\n",
       "    </tr>\n",
       "    <tr>\n",
       "      <th>3</th>\n",
       "      <td>0</td>\n",
       "      <td>1</td>\n",
       "      <td>1</td>\n",
       "      <td>0</td>\n",
       "      <td>0</td>\n",
       "      <td>0</td>\n",
       "      <td>0</td>\n",
       "      <td>1</td>\n",
       "    </tr>\n",
       "    <tr>\n",
       "      <th>4</th>\n",
       "      <td>1</td>\n",
       "      <td>0</td>\n",
       "      <td>0</td>\n",
       "      <td>0</td>\n",
       "      <td>1</td>\n",
       "      <td>0</td>\n",
       "      <td>0</td>\n",
       "      <td>1</td>\n",
       "    </tr>\n",
       "  </tbody>\n",
       "</table>\n",
       "</div>"
      ],
      "text/plain": [
       "   Sex_male  Sex_female  Pclass_1  Pclass_2  Pclass_3  Embarked_C  Embarked_Q  Embarked_S\n",
       "0         1           0         0         0         1           0           0           1\n",
       "1         0           1         1         0         0           1           0           0\n",
       "2         0           1         0         0         1           0           0           1\n",
       "3         0           1         1         0         0           0           0           1\n",
       "4         1           0         0         0         1           0           0           1"
      ]
     },
     "execution_count": 15,
     "metadata": {},
     "output_type": "execute_result"
    }
   ],
   "source": [
    "added_cols = ['Sex_male', 'Sex_female', 'Pclass_1', 'Pclass_2', 'Pclass_3', 'Embarked_C', 'Embarked_Q', 'Embarked_S']\n",
    "df[added_cols].head()"
   ]
  },
  {
   "cell_type": "markdown",
   "id": "4e0ec2ee",
   "metadata": {
    "hidden": true,
    "papermill": {
     "duration": 0.132363,
     "end_time": "2023-02-04T14:32:13.863622",
     "exception": false,
     "start_time": "2023-02-04T14:32:13.731259",
     "status": "completed"
    },
    "tags": []
   },
   "source": [
    "Now we can create our independent (predictors) and dependent (target) variables. They both need to be PyTorch tensors. Our dependent variable is `Survived`:"
   ]
  },
  {
   "cell_type": "markdown",
   "id": "31833032",
   "metadata": {
    "papermill": {
     "duration": 0.128437,
     "end_time": "2023-02-04T14:32:14.124197",
     "exception": false,
     "start_time": "2023-02-04T14:32:13.995760",
     "status": "completed"
    },
    "tags": []
   },
   "source": [
    "**he suggest to just learn pytorch instead of numpy which he rarely ever uses.**"
   ]
  },
  {
   "cell_type": "code",
   "execution_count": 16,
   "id": "2a37250f",
   "metadata": {
    "execution": {
     "iopub.execute_input": "2023-02-04T14:32:14.376213Z",
     "iopub.status.busy": "2023-02-04T14:32:14.375927Z",
     "iopub.status.idle": "2023-02-04T14:32:14.392607Z",
     "shell.execute_reply": "2023-02-04T14:32:14.391827Z"
    },
    "hidden": true,
    "papermill": {
     "duration": 0.145433,
     "end_time": "2023-02-04T14:32:14.394663",
     "exception": false,
     "start_time": "2023-02-04T14:32:14.249230",
     "status": "completed"
    },
    "tags": []
   },
   "outputs": [],
   "source": [
    "from torch import tensor\n",
    "\n",
    "t_dep = tensor(df.Survived)"
   ]
  },
  {
   "cell_type": "markdown",
   "id": "4814920e",
   "metadata": {
    "papermill": {
     "duration": 0.12863,
     "end_time": "2023-02-04T14:32:14.649600",
     "exception": false,
     "start_time": "2023-02-04T14:32:14.520970",
     "status": "completed"
    },
    "tags": []
   },
   "source": [
    "*ChatGPT*\n",
    "\n",
    "This code creates a PyTorch tensor from the values in the \"Survived\" column of the Pandas dataframe df.\n",
    "\n",
    "The line t_dep = tensor(df.Survived) creates a PyTorch tensor t_dep from the values in the \"Survived\" column of the dataframe df. The tensor function from the torch library is used to convert the Pandas series to a PyTorch tensor.\n",
    "\n",
    "In machine learning, tensors are multi-dimensional arrays that can be processed on GPU, making them suitable for high-performance computations. Converting the data from a Pandas dataframe to a PyTorch tensor makes it possible to use the data in PyTorch-based machine learning models and to take advantage of the performance benefits provided by GPU processing."
   ]
  },
  {
   "cell_type": "markdown",
   "id": "834a0ed4",
   "metadata": {
    "hidden": true,
    "papermill": {
     "duration": 0.13409,
     "end_time": "2023-02-04T14:32:14.916396",
     "exception": false,
     "start_time": "2023-02-04T14:32:14.782306",
     "status": "completed"
    },
    "tags": []
   },
   "source": [
    "Our independent variables are all the continuous variables of interest plus all the dummy variables we just created:"
   ]
  },
  {
   "cell_type": "code",
   "execution_count": 17,
   "id": "1234e193",
   "metadata": {
    "execution": {
     "iopub.execute_input": "2023-02-04T14:32:15.176293Z",
     "iopub.status.busy": "2023-02-04T14:32:15.175350Z",
     "iopub.status.idle": "2023-02-04T14:32:15.301648Z",
     "shell.execute_reply": "2023-02-04T14:32:15.300757Z"
    },
    "hidden": true,
    "papermill": {
     "duration": 0.256595,
     "end_time": "2023-02-04T14:32:15.303730",
     "exception": false,
     "start_time": "2023-02-04T14:32:15.047135",
     "status": "completed"
    },
    "tags": []
   },
   "outputs": [
    {
     "data": {
      "text/plain": [
       "tensor([[22.0000,  1.0000,  0.0000,  2.1102,  1.0000,  0.0000,  0.0000,  0.0000,  1.0000,  0.0000,  0.0000,  1.0000],\n",
       "        [38.0000,  1.0000,  0.0000,  4.2806,  0.0000,  1.0000,  1.0000,  0.0000,  0.0000,  1.0000,  0.0000,  0.0000],\n",
       "        [26.0000,  0.0000,  0.0000,  2.1889,  0.0000,  1.0000,  0.0000,  0.0000,  1.0000,  0.0000,  0.0000,  1.0000],\n",
       "        [35.0000,  1.0000,  0.0000,  3.9908,  0.0000,  1.0000,  1.0000,  0.0000,  0.0000,  0.0000,  0.0000,  1.0000],\n",
       "        [35.0000,  0.0000,  0.0000,  2.2028,  1.0000,  0.0000,  0.0000,  0.0000,  1.0000,  0.0000,  0.0000,  1.0000],\n",
       "        [24.0000,  0.0000,  0.0000,  2.2469,  1.0000,  0.0000,  0.0000,  0.0000,  1.0000,  0.0000,  1.0000,  0.0000],\n",
       "        [54.0000,  0.0000,  0.0000,  3.9677,  1.0000,  0.0000,  1.0000,  0.0000,  0.0000,  0.0000,  0.0000,  1.0000],\n",
       "        ...,\n",
       "        [25.0000,  0.0000,  0.0000,  2.0857,  1.0000,  0.0000,  0.0000,  0.0000,  1.0000,  0.0000,  0.0000,  1.0000],\n",
       "        [39.0000,  0.0000,  5.0000,  3.4054,  0.0000,  1.0000,  0.0000,  0.0000,  1.0000,  0.0000,  1.0000,  0.0000],\n",
       "        [27.0000,  0.0000,  0.0000,  2.6391,  1.0000,  0.0000,  0.0000,  1.0000,  0.0000,  0.0000,  0.0000,  1.0000],\n",
       "        [19.0000,  0.0000,  0.0000,  3.4340,  0.0000,  1.0000,  1.0000,  0.0000,  0.0000,  0.0000,  0.0000,  1.0000],\n",
       "        [24.0000,  1.0000,  2.0000,  3.1966,  0.0000,  1.0000,  0.0000,  0.0000,  1.0000,  0.0000,  0.0000,  1.0000],\n",
       "        [26.0000,  0.0000,  0.0000,  3.4340,  1.0000,  0.0000,  1.0000,  0.0000,  0.0000,  1.0000,  0.0000,  0.0000],\n",
       "        [32.0000,  0.0000,  0.0000,  2.1691,  1.0000,  0.0000,  0.0000,  0.0000,  1.0000,  0.0000,  1.0000,  0.0000]])"
      ]
     },
     "execution_count": 17,
     "metadata": {},
     "output_type": "execute_result"
    }
   ],
   "source": [
    "indep_cols = ['Age', 'SibSp', 'Parch', 'LogFare'] + added_cols\n",
    "\n",
    "t_indep = tensor(df[indep_cols].values, dtype=torch.float)\n",
    "t_indep"
   ]
  },
  {
   "cell_type": "markdown",
   "id": "e19d4103",
   "metadata": {
    "papermill": {
     "duration": 0.124861,
     "end_time": "2023-02-04T14:32:15.558074",
     "exception": false,
     "start_time": "2023-02-04T14:32:15.433213",
     "status": "completed"
    },
    "tags": []
   },
   "source": [
    "*ChatGPT*\n",
    "\n",
    "This code creates a PyTorch tensor t_indep from the values of several columns of the Pandas dataframe df.\n",
    "\n",
    "The line indep_cols = ['Age', 'SibSp', 'Parch', 'LogFare'] + added_cols defines a list indep_cols of column names that will be used as the independent variables in the machine learning model. The list consists of four columns from the original dataframe df ('Age', 'SibSp', 'Parch', and 'LogFare') and the one-hot encoded columns from added_cols.\n",
    "\n",
    "The line t_indep = tensor(df[indep_cols].values, dtype=torch.float) creates the PyTorch tensor t_indep from the values in the columns specified by indep_cols. The df[indep_cols].values syntax extracts the values from the specified columns of the dataframe as a NumPy array. The tensor function is used to convert the NumPy array to a PyTorch tensor, and the dtype argument is used to specify that the data type of the tensor should be torch.float.\n",
    "\n",
    "This code is used to prepare the data for use in a PyTorch-based machine learning model. The t_indep tensor will be used as the input to the model and the values in this tensor will be used to make predictions."
   ]
  },
  {
   "cell_type": "markdown",
   "id": "f59ba7d3",
   "metadata": {
    "hidden": true,
    "papermill": {
     "duration": 0.128418,
     "end_time": "2023-02-04T14:32:15.812589",
     "exception": false,
     "start_time": "2023-02-04T14:32:15.684171",
     "status": "completed"
    },
    "tags": []
   },
   "source": [
    "Here's the number of rows and columns we have for our independent variables:"
   ]
  },
  {
   "cell_type": "code",
   "execution_count": 18,
   "id": "2eafc086",
   "metadata": {
    "execution": {
     "iopub.execute_input": "2023-02-04T14:32:16.079266Z",
     "iopub.status.busy": "2023-02-04T14:32:16.078956Z",
     "iopub.status.idle": "2023-02-04T14:32:16.084567Z",
     "shell.execute_reply": "2023-02-04T14:32:16.083673Z"
    },
    "hidden": true,
    "papermill": {
     "duration": 0.142478,
     "end_time": "2023-02-04T14:32:16.087272",
     "exception": false,
     "start_time": "2023-02-04T14:32:15.944794",
     "status": "completed"
    },
    "tags": []
   },
   "outputs": [
    {
     "data": {
      "text/plain": [
       "torch.Size([891, 12])"
      ]
     },
     "execution_count": 18,
     "metadata": {},
     "output_type": "execute_result"
    }
   ],
   "source": [
    "t_indep.shape"
   ]
  },
  {
   "cell_type": "code",
   "execution_count": 19,
   "id": "e453829e",
   "metadata": {
    "execution": {
     "iopub.execute_input": "2023-02-04T14:32:16.347620Z",
     "iopub.status.busy": "2023-02-04T14:32:16.346570Z",
     "iopub.status.idle": "2023-02-04T14:32:16.354068Z",
     "shell.execute_reply": "2023-02-04T14:32:16.353004Z"
    },
    "papermill": {
     "duration": 0.137319,
     "end_time": "2023-02-04T14:32:16.356265",
     "exception": false,
     "start_time": "2023-02-04T14:32:16.218946",
     "status": "completed"
    },
    "tags": []
   },
   "outputs": [
    {
     "data": {
      "text/plain": [
       "2"
      ]
     },
     "execution_count": 19,
     "metadata": {},
     "output_type": "execute_result"
    }
   ],
   "source": [
    "len(t_indep.shape) # t_indep it's a rank 2 tensor or a 2-dim tensor commonly called a matrix."
   ]
  },
  {
   "cell_type": "markdown",
   "id": "1958c907",
   "metadata": {
    "papermill": {
     "duration": 0.124963,
     "end_time": "2023-02-04T14:32:16.606617",
     "exception": false,
     "start_time": "2023-02-04T14:32:16.481654",
     "status": "completed"
    },
    "tags": []
   },
   "source": [
    "## Setting up a linear model"
   ]
  },
  {
   "cell_type": "markdown",
   "id": "afc1cc46",
   "metadata": {
    "papermill": {
     "duration": 0.13676,
     "end_time": "2023-02-04T14:32:16.869818",
     "exception": false,
     "start_time": "2023-02-04T14:32:16.733058",
     "status": "completed"
    },
    "tags": []
   },
   "source": [
    "Now that we've got a matrix of independent variables and a dependent variable vector, we can work on calculating our predictions and our loss. In this section, we're going to manually do a single step of calculating predictions and loss for every row of our data.\n",
    "\n",
    "Our first model will be a simple linear model. We'll need a coefficient for each column in `t_indep`. We'll pick random numbers in the range `(-0.5,0.5)`, and set our manual seed so that my explanations in the prose in this notebook will be consistent with what you see when you run it."
   ]
  },
  {
   "cell_type": "code",
   "execution_count": 20,
   "id": "ec9d2a2a",
   "metadata": {
    "execution": {
     "iopub.execute_input": "2023-02-04T14:32:17.131215Z",
     "iopub.status.busy": "2023-02-04T14:32:17.130917Z",
     "iopub.status.idle": "2023-02-04T14:32:17.152649Z",
     "shell.execute_reply": "2023-02-04T14:32:17.151715Z"
    },
    "papermill": {
     "duration": 0.154886,
     "end_time": "2023-02-04T14:32:17.154851",
     "exception": false,
     "start_time": "2023-02-04T14:32:16.999965",
     "status": "completed"
    },
    "tags": []
   },
   "outputs": [
    {
     "data": {
      "text/plain": [
       "tensor([-0.4629,  0.1386,  0.2409, -0.2262, -0.2632, -0.3147,  0.4876,  0.3136,  0.2799, -0.4392,  0.2103,  0.3625])"
      ]
     },
     "execution_count": 20,
     "metadata": {},
     "output_type": "execute_result"
    }
   ],
   "source": [
    "torch.manual_seed(442)\n",
    "\n",
    "n_coeff = t_indep.shape[1]\n",
    "coeffs = torch.rand(n_coeff)-0.5\n",
    "coeffs"
   ]
  },
  {
   "cell_type": "markdown",
   "id": "fae49912",
   "metadata": {
    "papermill": {
     "duration": 0.130433,
     "end_time": "2023-02-04T14:32:17.415055",
     "exception": false,
     "start_time": "2023-02-04T14:32:17.284622",
     "status": "completed"
    },
    "tags": []
   },
   "source": [
    "The line torch.manual_seed(442) sets the random seed for the PyTorch library. This means that any random number generation in PyTorch that happens after this line will produce the same results each time you run the code.\n",
    "\n",
    "The line n_coeff = t_indep.shape[1] retrieves the number of coefficients in the independent variables, represented as the number of columns in the t_indep tensor.\n",
    "\n",
    "The line coeffs = torch.rand(n_coeff)-0.5 generates a random tensor with n_coeff elements using the torch.rand function. The elements of the tensor are drawn from a uniform distribution over the interval [0,1]. Subtracting 0.5 from each element will shift the interval to [-0.5,0.5]. The result is stored in the tensor coeffs."
   ]
  },
  {
   "cell_type": "markdown",
   "id": "65c71953",
   "metadata": {
    "papermill": {
     "duration": 0.126155,
     "end_time": "2023-02-04T14:32:17.666126",
     "exception": false,
     "start_time": "2023-02-04T14:32:17.539971",
     "status": "completed"
    },
    "tags": []
   },
   "source": [
    "Our predictions will be calculated by multiplying each row by the coefficients, and adding them up. One interesting point here is that we don't need a separate constant term (also known as a \"bias\" or \"intercept\" term), or a column of all `1`s to give the same effect has having a constant term. That's because our dummy variables already cover the entire dataset -- e.g. there's a column for \"male\" and a column for \"female\", and everyone in the dataset is in exactly one of these; therefore, we don't need a separate intercept term to cover rows that aren't otherwise part of a column.\n",
    "\n",
    "Here's what the multiplication looks like:"
   ]
  },
  {
   "cell_type": "code",
   "execution_count": 21,
   "id": "8b019d3c",
   "metadata": {
    "execution": {
     "iopub.execute_input": "2023-02-04T14:32:17.954632Z",
     "iopub.status.busy": "2023-02-04T14:32:17.953223Z",
     "iopub.status.idle": "2023-02-04T14:32:17.962614Z",
     "shell.execute_reply": "2023-02-04T14:32:17.961615Z"
    },
    "papermill": {
     "duration": 0.152434,
     "end_time": "2023-02-04T14:32:17.965033",
     "exception": false,
     "start_time": "2023-02-04T14:32:17.812599",
     "status": "completed"
    },
    "tags": []
   },
   "outputs": [
    {
     "data": {
      "text/plain": [
       "tensor([[-10.1838,   0.1386,   0.0000,  -0.4772,  -0.2632,  -0.0000,   0.0000,   0.0000,   0.2799,  -0.0000,   0.0000,   0.3625],\n",
       "        [-17.5902,   0.1386,   0.0000,  -0.9681,  -0.0000,  -0.3147,   0.4876,   0.0000,   0.0000,  -0.4392,   0.0000,   0.0000],\n",
       "        [-12.0354,   0.0000,   0.0000,  -0.4950,  -0.0000,  -0.3147,   0.0000,   0.0000,   0.2799,  -0.0000,   0.0000,   0.3625],\n",
       "        [-16.2015,   0.1386,   0.0000,  -0.9025,  -0.0000,  -0.3147,   0.4876,   0.0000,   0.0000,  -0.0000,   0.0000,   0.3625],\n",
       "        [-16.2015,   0.0000,   0.0000,  -0.4982,  -0.2632,  -0.0000,   0.0000,   0.0000,   0.2799,  -0.0000,   0.0000,   0.3625],\n",
       "        [-11.1096,   0.0000,   0.0000,  -0.5081,  -0.2632,  -0.0000,   0.0000,   0.0000,   0.2799,  -0.0000,   0.2103,   0.0000],\n",
       "        [-24.9966,   0.0000,   0.0000,  -0.8973,  -0.2632,  -0.0000,   0.4876,   0.0000,   0.0000,  -0.0000,   0.0000,   0.3625],\n",
       "        ...,\n",
       "        [-11.5725,   0.0000,   0.0000,  -0.4717,  -0.2632,  -0.0000,   0.0000,   0.0000,   0.2799,  -0.0000,   0.0000,   0.3625],\n",
       "        [-18.0531,   0.0000,   1.2045,  -0.7701,  -0.0000,  -0.3147,   0.0000,   0.0000,   0.2799,  -0.0000,   0.2103,   0.0000],\n",
       "        [-12.4983,   0.0000,   0.0000,  -0.5968,  -0.2632,  -0.0000,   0.0000,   0.3136,   0.0000,  -0.0000,   0.0000,   0.3625],\n",
       "        [ -8.7951,   0.0000,   0.0000,  -0.7766,  -0.0000,  -0.3147,   0.4876,   0.0000,   0.0000,  -0.0000,   0.0000,   0.3625],\n",
       "        [-11.1096,   0.1386,   0.4818,  -0.7229,  -0.0000,  -0.3147,   0.0000,   0.0000,   0.2799,  -0.0000,   0.0000,   0.3625],\n",
       "        [-12.0354,   0.0000,   0.0000,  -0.7766,  -0.2632,  -0.0000,   0.4876,   0.0000,   0.0000,  -0.4392,   0.0000,   0.0000],\n",
       "        [-14.8128,   0.0000,   0.0000,  -0.4905,  -0.2632,  -0.0000,   0.0000,   0.0000,   0.2799,  -0.0000,   0.2103,   0.0000]])"
      ]
     },
     "execution_count": 21,
     "metadata": {},
     "output_type": "execute_result"
    }
   ],
   "source": [
    "t_indep*coeffs"
   ]
  },
  {
   "cell_type": "markdown",
   "id": "cbcc6176",
   "metadata": {
    "papermill": {
     "duration": 0.126453,
     "end_time": "2023-02-04T14:32:18.225043",
     "exception": false,
     "start_time": "2023-02-04T14:32:18.098590",
     "status": "completed"
    },
    "tags": []
   },
   "source": [
    "We can see we've got a problem here. The sums of each row will be dominated by the first column, which is `Age`, since that's bigger on average than all the others.\n",
    "\n",
    "Let's make all the columns contain numbers from `0` to `1`, by dividing each column by its `max()`:"
   ]
  },
  {
   "cell_type": "code",
   "execution_count": 22,
   "id": "4da60c37",
   "metadata": {
    "execution": {
     "iopub.execute_input": "2023-02-04T14:32:18.491566Z",
     "iopub.status.busy": "2023-02-04T14:32:18.490425Z",
     "iopub.status.idle": "2023-02-04T14:32:18.504447Z",
     "shell.execute_reply": "2023-02-04T14:32:18.503592Z"
    },
    "papermill": {
     "duration": 0.154651,
     "end_time": "2023-02-04T14:32:18.507280",
     "exception": false,
     "start_time": "2023-02-04T14:32:18.352629",
     "status": "completed"
    },
    "tags": []
   },
   "outputs": [],
   "source": [
    "vals,indices = t_indep.max(dim=0)\n",
    "t_indep = t_indep / vals"
   ]
  },
  {
   "cell_type": "markdown",
   "id": "2e88fdca",
   "metadata": {
    "papermill": {
     "duration": 0.179574,
     "end_time": "2023-02-04T14:32:18.830703",
     "exception": false,
     "start_time": "2023-02-04T14:32:18.651129",
     "status": "completed"
    },
    "tags": []
   },
   "source": [
    "As we see, that removes the problem of one column dominating all the others:"
   ]
  },
  {
   "cell_type": "code",
   "execution_count": 23,
   "id": "8b2767b7",
   "metadata": {
    "execution": {
     "iopub.execute_input": "2023-02-04T14:32:19.113884Z",
     "iopub.status.busy": "2023-02-04T14:32:19.113248Z",
     "iopub.status.idle": "2023-02-04T14:32:19.121182Z",
     "shell.execute_reply": "2023-02-04T14:32:19.120299Z"
    },
    "papermill": {
     "duration": 0.145822,
     "end_time": "2023-02-04T14:32:19.123490",
     "exception": false,
     "start_time": "2023-02-04T14:32:18.977668",
     "status": "completed"
    },
    "tags": []
   },
   "outputs": [
    {
     "data": {
      "text/plain": [
       "tensor([[-0.1273,  0.0173,  0.0000, -0.0765, -0.2632, -0.0000,  0.0000,  0.0000,  0.2799, -0.0000,  0.0000,  0.3625],\n",
       "        [-0.2199,  0.0173,  0.0000, -0.1551, -0.0000, -0.3147,  0.4876,  0.0000,  0.0000, -0.4392,  0.0000,  0.0000],\n",
       "        [-0.1504,  0.0000,  0.0000, -0.0793, -0.0000, -0.3147,  0.0000,  0.0000,  0.2799, -0.0000,  0.0000,  0.3625],\n",
       "        [-0.2025,  0.0173,  0.0000, -0.1446, -0.0000, -0.3147,  0.4876,  0.0000,  0.0000, -0.0000,  0.0000,  0.3625],\n",
       "        [-0.2025,  0.0000,  0.0000, -0.0798, -0.2632, -0.0000,  0.0000,  0.0000,  0.2799, -0.0000,  0.0000,  0.3625],\n",
       "        [-0.1389,  0.0000,  0.0000, -0.0814, -0.2632, -0.0000,  0.0000,  0.0000,  0.2799, -0.0000,  0.2103,  0.0000],\n",
       "        [-0.3125,  0.0000,  0.0000, -0.1438, -0.2632, -0.0000,  0.4876,  0.0000,  0.0000, -0.0000,  0.0000,  0.3625],\n",
       "        ...,\n",
       "        [-0.1447,  0.0000,  0.0000, -0.0756, -0.2632, -0.0000,  0.0000,  0.0000,  0.2799, -0.0000,  0.0000,  0.3625],\n",
       "        [-0.2257,  0.0000,  0.2008, -0.1234, -0.0000, -0.3147,  0.0000,  0.0000,  0.2799, -0.0000,  0.2103,  0.0000],\n",
       "        [-0.1562,  0.0000,  0.0000, -0.0956, -0.2632, -0.0000,  0.0000,  0.3136,  0.0000, -0.0000,  0.0000,  0.3625],\n",
       "        [-0.1099,  0.0000,  0.0000, -0.1244, -0.0000, -0.3147,  0.4876,  0.0000,  0.0000, -0.0000,  0.0000,  0.3625],\n",
       "        [-0.1389,  0.0173,  0.0803, -0.1158, -0.0000, -0.3147,  0.0000,  0.0000,  0.2799, -0.0000,  0.0000,  0.3625],\n",
       "        [-0.1504,  0.0000,  0.0000, -0.1244, -0.2632, -0.0000,  0.4876,  0.0000,  0.0000, -0.4392,  0.0000,  0.0000],\n",
       "        [-0.1852,  0.0000,  0.0000, -0.0786, -0.2632, -0.0000,  0.0000,  0.0000,  0.2799, -0.0000,  0.2103,  0.0000]])"
      ]
     },
     "execution_count": 23,
     "metadata": {},
     "output_type": "execute_result"
    }
   ],
   "source": [
    "t_indep*coeffs"
   ]
  },
  {
   "cell_type": "markdown",
   "id": "c3dd98c9",
   "metadata": {
    "papermill": {
     "duration": 0.131431,
     "end_time": "2023-02-04T14:32:19.392787",
     "exception": false,
     "start_time": "2023-02-04T14:32:19.261356",
     "status": "completed"
    },
    "tags": []
   },
   "source": [
    "One thing you hopefully noticed is how amazingly cool this line of code is:\n",
    "\n",
    "    t_indep = t_indep / vals\n",
    "\n",
    "That is dividing a matrix by a vector -- what on earth does that mean?!? The trick here is that we're taking advantage of a technique in numpy and PyTorch (and many other languages, going all the way back to APL) called [broadcasting](https://numpy.org/doc/stable/user/basics.broadcasting.html). In short, this acts as if there's a separate copy of the vector for every row of the matrix, so it divides each row of the matrix by the vector. In practice, it doesn't actually make any copies, and does the whole thing in a highly optimized way, taking full advantage of modern CPUs (or, indeed, GPUs, if we're using them). Broadcasting is one of the most important techniques for making your code concise, maintainable, and fast, so it's well worth studying and practicing.\n",
    "\n",
    "We can now create predictions from our linear model, by adding up the rows of the product:"
   ]
  },
  {
   "cell_type": "code",
   "execution_count": 24,
   "id": "283d4c08",
   "metadata": {
    "execution": {
     "iopub.execute_input": "2023-02-04T14:32:19.663070Z",
     "iopub.status.busy": "2023-02-04T14:32:19.662639Z",
     "iopub.status.idle": "2023-02-04T14:32:19.672812Z",
     "shell.execute_reply": "2023-02-04T14:32:19.671611Z"
    },
    "papermill": {
     "duration": 0.147044,
     "end_time": "2023-02-04T14:32:19.675325",
     "exception": false,
     "start_time": "2023-02-04T14:32:19.528281",
     "status": "completed"
    },
    "tags": []
   },
   "outputs": [],
   "source": [
    "preds = (t_indep*coeffs).sum(axis=1)"
   ]
  },
  {
   "cell_type": "markdown",
   "id": "65bda374",
   "metadata": {
    "papermill": {
     "duration": 0.128875,
     "end_time": "2023-02-04T14:32:19.935108",
     "exception": false,
     "start_time": "2023-02-04T14:32:19.806233",
     "status": "completed"
    },
    "tags": []
   },
   "source": [
    "Let's take a look at the first few:"
   ]
  },
  {
   "cell_type": "code",
   "execution_count": 25,
   "id": "3c9e572a",
   "metadata": {
    "execution": {
     "iopub.execute_input": "2023-02-04T14:32:20.201029Z",
     "iopub.status.busy": "2023-02-04T14:32:20.200651Z",
     "iopub.status.idle": "2023-02-04T14:32:20.209686Z",
     "shell.execute_reply": "2023-02-04T14:32:20.208754Z"
    },
    "papermill": {
     "duration": 0.140836,
     "end_time": "2023-02-04T14:32:20.211966",
     "exception": false,
     "start_time": "2023-02-04T14:32:20.071130",
     "status": "completed"
    },
    "tags": []
   },
   "outputs": [
    {
     "data": {
      "text/plain": [
       "tensor([ 0.1927, -0.6239,  0.0979,  0.2056,  0.0968,  0.0066,  0.1306,  0.3476,  0.1613, -0.6285])"
      ]
     },
     "execution_count": 25,
     "metadata": {},
     "output_type": "execute_result"
    }
   ],
   "source": [
    "preds[:10]"
   ]
  },
  {
   "cell_type": "markdown",
   "id": "fad02f28",
   "metadata": {
    "papermill": {
     "duration": 0.13586,
     "end_time": "2023-02-04T14:32:20.475705",
     "exception": false,
     "start_time": "2023-02-04T14:32:20.339845",
     "status": "completed"
    },
    "tags": []
   },
   "source": [
    "Of course, these predictions aren't going to be any use, since our coefficients are random -- they're just a starting point for our gradient descent process.\n",
    "\n",
    "To do gradient descent, we need a loss function. Taking the average error of the rows (i.e. the absolute value of the difference between the prediction and the dependent) is generally a reasonable approach:"
   ]
  },
  {
   "cell_type": "code",
   "execution_count": 26,
   "id": "b3dad9ef",
   "metadata": {
    "execution": {
     "iopub.execute_input": "2023-02-04T14:32:20.737681Z",
     "iopub.status.busy": "2023-02-04T14:32:20.737338Z",
     "iopub.status.idle": "2023-02-04T14:32:20.751314Z",
     "shell.execute_reply": "2023-02-04T14:32:20.750343Z"
    },
    "papermill": {
     "duration": 0.14924,
     "end_time": "2023-02-04T14:32:20.753947",
     "exception": false,
     "start_time": "2023-02-04T14:32:20.604707",
     "status": "completed"
    },
    "tags": []
   },
   "outputs": [
    {
     "data": {
      "text/plain": [
       "tensor(0.5382)"
      ]
     },
     "execution_count": 26,
     "metadata": {},
     "output_type": "execute_result"
    }
   ],
   "source": [
    "loss = torch.abs(preds-t_dep).mean()\n",
    "loss"
   ]
  },
  {
   "cell_type": "markdown",
   "id": "3bf3117b",
   "metadata": {
    "papermill": {
     "duration": 0.133853,
     "end_time": "2023-02-04T14:32:21.024439",
     "exception": false,
     "start_time": "2023-02-04T14:32:20.890586",
     "status": "completed"
    },
    "tags": []
   },
   "source": [
    "Now that we've tested out a way of calculating predictions, and loss, let's pop them into functions to make life easier:"
   ]
  },
  {
   "cell_type": "code",
   "execution_count": 27,
   "id": "519ebe5f",
   "metadata": {
    "execution": {
     "iopub.execute_input": "2023-02-04T14:32:21.284229Z",
     "iopub.status.busy": "2023-02-04T14:32:21.283910Z",
     "iopub.status.idle": "2023-02-04T14:32:21.289125Z",
     "shell.execute_reply": "2023-02-04T14:32:21.288127Z"
    },
    "papermill": {
     "duration": 0.135327,
     "end_time": "2023-02-04T14:32:21.291181",
     "exception": false,
     "start_time": "2023-02-04T14:32:21.155854",
     "status": "completed"
    },
    "tags": []
   },
   "outputs": [],
   "source": [
    "def calc_preds(coeffs, indeps): return (indeps*coeffs).sum(axis=1)\n",
    "def calc_loss(coeffs, indeps, deps): return torch.abs(calc_preds(coeffs, indeps)-deps).mean()"
   ]
  },
  {
   "cell_type": "markdown",
   "id": "b3888077",
   "metadata": {
    "papermill": {
     "duration": 0.12683,
     "end_time": "2023-02-04T14:32:21.547094",
     "exception": false,
     "start_time": "2023-02-04T14:32:21.420264",
     "status": "completed"
    },
    "tags": []
   },
   "source": [
    "## Doing a gradient descent step"
   ]
  },
  {
   "cell_type": "markdown",
   "id": "42d7955f",
   "metadata": {
    "papermill": {
     "duration": 0.175067,
     "end_time": "2023-02-04T14:32:21.850169",
     "exception": false,
     "start_time": "2023-02-04T14:32:21.675102",
     "status": "completed"
    },
    "tags": []
   },
   "source": [
    "In this section, we're going to do a single \"epoch\" of gradient descent manually. The only thing we're going to automate is calculating gradients, because let's face it that's pretty tedious and entirely pointless to do by hand! To get PyTorch to calculate gradients, we'll need to call `requires_grad_()` on our `coeffs` (if you're not sure why, review the previous notebook, [How does a neural net really work?](https://www.kaggle.com/code/jhoward/how-does-a-neural-net-really-work), before continuing):"
   ]
  },
  {
   "cell_type": "code",
   "execution_count": 28,
   "id": "3acbf6b4",
   "metadata": {
    "execution": {
     "iopub.execute_input": "2023-02-04T14:32:22.115666Z",
     "iopub.status.busy": "2023-02-04T14:32:22.115320Z",
     "iopub.status.idle": "2023-02-04T14:32:22.122129Z",
     "shell.execute_reply": "2023-02-04T14:32:22.121349Z"
    },
    "papermill": {
     "duration": 0.139993,
     "end_time": "2023-02-04T14:32:22.124160",
     "exception": false,
     "start_time": "2023-02-04T14:32:21.984167",
     "status": "completed"
    },
    "tags": []
   },
   "outputs": [
    {
     "data": {
      "text/plain": [
       "tensor([-0.4629,  0.1386,  0.2409, -0.2262, -0.2632, -0.3147,  0.4876,  0.3136,  0.2799, -0.4392,  0.2103,  0.3625], requires_grad=True)"
      ]
     },
     "execution_count": 28,
     "metadata": {},
     "output_type": "execute_result"
    }
   ],
   "source": [
    "coeffs.requires_grad_()"
   ]
  },
  {
   "cell_type": "markdown",
   "id": "19055d66",
   "metadata": {
    "papermill": {
     "duration": 0.128345,
     "end_time": "2023-02-04T14:32:22.385038",
     "exception": false,
     "start_time": "2023-02-04T14:32:22.256693",
     "status": "completed"
    },
    "tags": []
   },
   "source": [
    "Now when we calculate our loss, PyTorch will keep track of all the steps, so we'll be able to get the gradients afterwards:"
   ]
  },
  {
   "cell_type": "code",
   "execution_count": 29,
   "id": "3c4230b3",
   "metadata": {
    "execution": {
     "iopub.execute_input": "2023-02-04T14:32:22.710592Z",
     "iopub.status.busy": "2023-02-04T14:32:22.709818Z",
     "iopub.status.idle": "2023-02-04T14:32:22.718420Z",
     "shell.execute_reply": "2023-02-04T14:32:22.717477Z"
    },
    "papermill": {
     "duration": 0.139462,
     "end_time": "2023-02-04T14:32:22.720476",
     "exception": false,
     "start_time": "2023-02-04T14:32:22.581014",
     "status": "completed"
    },
    "tags": []
   },
   "outputs": [
    {
     "data": {
      "text/plain": [
       "tensor(0.5382, grad_fn=<MeanBackward0>)"
      ]
     },
     "execution_count": 29,
     "metadata": {},
     "output_type": "execute_result"
    }
   ],
   "source": [
    "loss = calc_loss(coeffs, t_indep, t_dep)\n",
    "loss"
   ]
  },
  {
   "cell_type": "markdown",
   "id": "eb3af916",
   "metadata": {
    "papermill": {
     "duration": 0.133278,
     "end_time": "2023-02-04T14:32:22.987408",
     "exception": false,
     "start_time": "2023-02-04T14:32:22.854130",
     "status": "completed"
    },
    "tags": []
   },
   "source": [
    "Use `backward()` to ask PyTorch to calculate gradients now:"
   ]
  },
  {
   "cell_type": "code",
   "execution_count": 30,
   "id": "e1ce1852",
   "metadata": {
    "execution": {
     "iopub.execute_input": "2023-02-04T14:32:23.255183Z",
     "iopub.status.busy": "2023-02-04T14:32:23.254896Z",
     "iopub.status.idle": "2023-02-04T14:32:23.271249Z",
     "shell.execute_reply": "2023-02-04T14:32:23.270296Z"
    },
    "papermill": {
     "duration": 0.155816,
     "end_time": "2023-02-04T14:32:23.273813",
     "exception": false,
     "start_time": "2023-02-04T14:32:23.117997",
     "status": "completed"
    },
    "tags": []
   },
   "outputs": [],
   "source": [
    "loss.backward()"
   ]
  },
  {
   "cell_type": "markdown",
   "id": "3a70bbc6",
   "metadata": {
    "papermill": {
     "duration": 0.132594,
     "end_time": "2023-02-04T14:32:23.535798",
     "exception": false,
     "start_time": "2023-02-04T14:32:23.403204",
     "status": "completed"
    },
    "tags": []
   },
   "source": [
    "Let's see what they look like:"
   ]
  },
  {
   "cell_type": "code",
   "execution_count": 31,
   "id": "69054e8a",
   "metadata": {
    "execution": {
     "iopub.execute_input": "2023-02-04T14:32:23.799389Z",
     "iopub.status.busy": "2023-02-04T14:32:23.798787Z",
     "iopub.status.idle": "2023-02-04T14:32:23.805046Z",
     "shell.execute_reply": "2023-02-04T14:32:23.804304Z"
    },
    "papermill": {
     "duration": 0.143237,
     "end_time": "2023-02-04T14:32:23.807300",
     "exception": false,
     "start_time": "2023-02-04T14:32:23.664063",
     "status": "completed"
    },
    "tags": []
   },
   "outputs": [
    {
     "data": {
      "text/plain": [
       "tensor([-0.0106,  0.0129, -0.0041, -0.0484,  0.2099, -0.2132, -0.1212, -0.0247,  0.1425, -0.1886, -0.0191,  0.2043])"
      ]
     },
     "execution_count": 31,
     "metadata": {},
     "output_type": "execute_result"
    }
   ],
   "source": [
    "coeffs.grad"
   ]
  },
  {
   "cell_type": "markdown",
   "id": "c5935331",
   "metadata": {
    "papermill": {
     "duration": 0.136556,
     "end_time": "2023-02-04T14:32:24.077743",
     "exception": false,
     "start_time": "2023-02-04T14:32:23.941187",
     "status": "completed"
    },
    "tags": []
   },
   "source": [
    "Note that each time we call `backward`, the gradients are actually *added* to whatever is in the `.grad` attribute. Let's try running the above steps again:"
   ]
  },
  {
   "cell_type": "code",
   "execution_count": 32,
   "id": "17853358",
   "metadata": {
    "execution": {
     "iopub.execute_input": "2023-02-04T14:32:24.351705Z",
     "iopub.status.busy": "2023-02-04T14:32:24.351126Z",
     "iopub.status.idle": "2023-02-04T14:32:24.360955Z",
     "shell.execute_reply": "2023-02-04T14:32:24.360261Z"
    },
    "papermill": {
     "duration": 0.151542,
     "end_time": "2023-02-04T14:32:24.363208",
     "exception": false,
     "start_time": "2023-02-04T14:32:24.211666",
     "status": "completed"
    },
    "tags": []
   },
   "outputs": [
    {
     "data": {
      "text/plain": [
       "tensor([-0.0212,  0.0258, -0.0082, -0.0969,  0.4198, -0.4265, -0.2424, -0.0494,  0.2851, -0.3771, -0.0382,  0.4085])"
      ]
     },
     "execution_count": 32,
     "metadata": {},
     "output_type": "execute_result"
    }
   ],
   "source": [
    "loss = calc_loss(coeffs, t_indep, t_dep)\n",
    "loss.backward()\n",
    "coeffs.grad"
   ]
  },
  {
   "cell_type": "markdown",
   "id": "8fca421f",
   "metadata": {
    "papermill": {
     "duration": 0.139228,
     "end_time": "2023-02-04T14:32:24.636585",
     "exception": false,
     "start_time": "2023-02-04T14:32:24.497357",
     "status": "completed"
    },
    "tags": []
   },
   "source": [
    "As you see, our `.grad` values are have doubled. That's because it added the gradients a second time. For this reason, after we use the gradients to do a gradient descent step, we need to set them back to zero.\n",
    "\n",
    "We can now do one gradient descent step, and check that our loss decreases:"
   ]
  },
  {
   "cell_type": "code",
   "execution_count": 33,
   "id": "73846c70",
   "metadata": {
    "execution": {
     "iopub.execute_input": "2023-02-04T14:32:24.915991Z",
     "iopub.status.busy": "2023-02-04T14:32:24.915324Z",
     "iopub.status.idle": "2023-02-04T14:32:24.923071Z",
     "shell.execute_reply": "2023-02-04T14:32:24.922203Z"
    },
    "papermill": {
     "duration": 0.151301,
     "end_time": "2023-02-04T14:32:24.925466",
     "exception": false,
     "start_time": "2023-02-04T14:32:24.774165",
     "status": "completed"
    },
    "tags": []
   },
   "outputs": [
    {
     "name": "stdout",
     "output_type": "stream",
     "text": [
      "tensor(0.4945)\n"
     ]
    }
   ],
   "source": [
    "loss = calc_loss(coeffs, t_indep, t_dep)\n",
    "loss.backward()\n",
    "with torch.no_grad():\n",
    "    coeffs.sub_(coeffs.grad * 0.1)\n",
    "    coeffs.grad.zero_()\n",
    "    print(calc_loss(coeffs, t_indep, t_dep))"
   ]
  },
  {
   "cell_type": "markdown",
   "id": "775df54b",
   "metadata": {
    "papermill": {
     "duration": 0.133687,
     "end_time": "2023-02-04T14:32:25.191950",
     "exception": false,
     "start_time": "2023-02-04T14:32:25.058263",
     "status": "completed"
    },
    "tags": []
   },
   "source": [
    "Note that `a.sub_(b)` subtracts `b` from `a` in-place. In PyTorch, any method that ends in `_` changes its object in-place. Similarly, `a.zero_()` sets all elements of a tensor to zero."
   ]
  },
  {
   "cell_type": "markdown",
   "id": "8bb6edbc",
   "metadata": {
    "papermill": {
     "duration": 0.130163,
     "end_time": "2023-02-04T14:32:25.458332",
     "exception": false,
     "start_time": "2023-02-04T14:32:25.328169",
     "status": "completed"
    },
    "tags": []
   },
   "source": [
    "## Training the linear model"
   ]
  },
  {
   "cell_type": "markdown",
   "id": "3b0b317a",
   "metadata": {
    "papermill": {
     "duration": 0.132662,
     "end_time": "2023-02-04T14:32:25.723234",
     "exception": false,
     "start_time": "2023-02-04T14:32:25.590572",
     "status": "completed"
    },
    "tags": []
   },
   "source": [
    "Before we begin training our model, we'll need to ensure that we hold out a validation set for calculating our metrics (for details on this, see \"[Getting started with NLP for absolute beginners](https://www.kaggle.com/code/jhoward/getting-started-with-nlp-for-absolute-beginners#Test-and-validation-sets)\".\n",
    "\n",
    "There's lots of different ways we can do this. In the next notebook we'll be comparing our approach here to what the fastai library does, so we'll want to ensure we split the data in the same way. So let's use `RandomSplitter` to get indices that will split our data into training and validation sets:"
   ]
  },
  {
   "cell_type": "code",
   "execution_count": 34,
   "id": "b9bc3194",
   "metadata": {
    "execution": {
     "iopub.execute_input": "2023-02-04T14:32:26.000983Z",
     "iopub.status.busy": "2023-02-04T14:32:26.000134Z",
     "iopub.status.idle": "2023-02-04T14:32:27.481341Z",
     "shell.execute_reply": "2023-02-04T14:32:27.480534Z"
    },
    "papermill": {
     "duration": 1.621898,
     "end_time": "2023-02-04T14:32:27.483879",
     "exception": false,
     "start_time": "2023-02-04T14:32:25.861981",
     "status": "completed"
    },
    "tags": []
   },
   "outputs": [],
   "source": [
    "from fastai.data.transforms import RandomSplitter\n",
    "trn_split,val_split=RandomSplitter(seed=42)(df)"
   ]
  },
  {
   "cell_type": "markdown",
   "id": "5713208b",
   "metadata": {
    "papermill": {
     "duration": 0.134173,
     "end_time": "2023-02-04T14:32:27.754310",
     "exception": false,
     "start_time": "2023-02-04T14:32:27.620137",
     "status": "completed"
    },
    "tags": []
   },
   "source": [
    "Now we can apply those indicies to our independent and dependent variables:"
   ]
  },
  {
   "cell_type": "code",
   "execution_count": 35,
   "id": "d2d2d569",
   "metadata": {
    "execution": {
     "iopub.execute_input": "2023-02-04T14:32:28.031457Z",
     "iopub.status.busy": "2023-02-04T14:32:28.031095Z",
     "iopub.status.idle": "2023-02-04T14:32:28.041335Z",
     "shell.execute_reply": "2023-02-04T14:32:28.040268Z"
    },
    "papermill": {
     "duration": 0.155245,
     "end_time": "2023-02-04T14:32:28.043560",
     "exception": false,
     "start_time": "2023-02-04T14:32:27.888315",
     "status": "completed"
    },
    "tags": []
   },
   "outputs": [
    {
     "data": {
      "text/plain": [
       "(713, 178)"
      ]
     },
     "execution_count": 35,
     "metadata": {},
     "output_type": "execute_result"
    }
   ],
   "source": [
    "trn_indep,val_indep = t_indep[trn_split],t_indep[val_split]\n",
    "trn_dep,val_dep = t_dep[trn_split],t_dep[val_split]\n",
    "len(trn_indep),len(val_indep)"
   ]
  },
  {
   "cell_type": "markdown",
   "id": "16df7584",
   "metadata": {
    "papermill": {
     "duration": 0.129673,
     "end_time": "2023-02-04T14:32:28.309156",
     "exception": false,
     "start_time": "2023-02-04T14:32:28.179483",
     "status": "completed"
    },
    "tags": []
   },
   "source": [
    "We'll create functions for the three things we did manually above: updating `coeffs`, doing one full gradient descent step, and initilising `coeffs` to random numbers:"
   ]
  },
  {
   "cell_type": "code",
   "execution_count": 36,
   "id": "26bbc7b5",
   "metadata": {
    "execution": {
     "iopub.execute_input": "2023-02-04T14:32:28.576302Z",
     "iopub.status.busy": "2023-02-04T14:32:28.575707Z",
     "iopub.status.idle": "2023-02-04T14:32:28.580000Z",
     "shell.execute_reply": "2023-02-04T14:32:28.579244Z"
    },
    "papermill": {
     "duration": 0.140317,
     "end_time": "2023-02-04T14:32:28.582117",
     "exception": false,
     "start_time": "2023-02-04T14:32:28.441800",
     "status": "completed"
    },
    "tags": []
   },
   "outputs": [],
   "source": [
    "def update_coeffs(coeffs, lr):\n",
    "    coeffs.sub_(coeffs.grad * lr)\n",
    "    coeffs.grad.zero_()"
   ]
  },
  {
   "cell_type": "code",
   "execution_count": 37,
   "id": "3bd42a2d",
   "metadata": {
    "execution": {
     "iopub.execute_input": "2023-02-04T14:32:28.855235Z",
     "iopub.status.busy": "2023-02-04T14:32:28.854643Z",
     "iopub.status.idle": "2023-02-04T14:32:28.859523Z",
     "shell.execute_reply": "2023-02-04T14:32:28.858693Z"
    },
    "papermill": {
     "duration": 0.145889,
     "end_time": "2023-02-04T14:32:28.862009",
     "exception": false,
     "start_time": "2023-02-04T14:32:28.716120",
     "status": "completed"
    },
    "tags": []
   },
   "outputs": [],
   "source": [
    "def one_epoch(coeffs, lr):\n",
    "    loss = calc_loss(coeffs, trn_indep, trn_dep)\n",
    "    loss.backward()\n",
    "    with torch.no_grad(): update_coeffs(coeffs, lr)\n",
    "    print(f\"{loss:.3f}\", end=\"; \")"
   ]
  },
  {
   "cell_type": "code",
   "execution_count": 38,
   "id": "a1c002be",
   "metadata": {
    "execution": {
     "iopub.execute_input": "2023-02-04T14:32:29.133125Z",
     "iopub.status.busy": "2023-02-04T14:32:29.132166Z",
     "iopub.status.idle": "2023-02-04T14:32:29.137274Z",
     "shell.execute_reply": "2023-02-04T14:32:29.136343Z"
    },
    "papermill": {
     "duration": 0.141086,
     "end_time": "2023-02-04T14:32:29.139524",
     "exception": false,
     "start_time": "2023-02-04T14:32:28.998438",
     "status": "completed"
    },
    "tags": []
   },
   "outputs": [],
   "source": [
    "def init_coeffs(): return (torch.rand(n_coeff)-0.5).requires_grad_()"
   ]
  },
  {
   "cell_type": "markdown",
   "id": "32bf9d2e",
   "metadata": {
    "papermill": {
     "duration": 0.131033,
     "end_time": "2023-02-04T14:32:29.403835",
     "exception": false,
     "start_time": "2023-02-04T14:32:29.272802",
     "status": "completed"
    },
    "tags": []
   },
   "source": [
    "We can now use these functions to train our model:"
   ]
  },
  {
   "cell_type": "code",
   "execution_count": 39,
   "id": "0af50270",
   "metadata": {
    "execution": {
     "iopub.execute_input": "2023-02-04T14:32:29.671289Z",
     "iopub.status.busy": "2023-02-04T14:32:29.670829Z",
     "iopub.status.idle": "2023-02-04T14:32:29.675695Z",
     "shell.execute_reply": "2023-02-04T14:32:29.675012Z"
    },
    "papermill": {
     "duration": 0.141451,
     "end_time": "2023-02-04T14:32:29.677655",
     "exception": false,
     "start_time": "2023-02-04T14:32:29.536204",
     "status": "completed"
    },
    "tags": []
   },
   "outputs": [],
   "source": [
    "def train_model(epochs=30, lr=0.01):\n",
    "    torch.manual_seed(442)\n",
    "    coeffs = init_coeffs()\n",
    "    for i in range(epochs): one_epoch(coeffs, lr=lr)\n",
    "    return coeffs"
   ]
  },
  {
   "cell_type": "markdown",
   "id": "9ef437da",
   "metadata": {
    "papermill": {
     "duration": 0.135096,
     "end_time": "2023-02-04T14:32:29.949704",
     "exception": false,
     "start_time": "2023-02-04T14:32:29.814608",
     "status": "completed"
    },
    "tags": []
   },
   "source": [
    "Let's try it. Our loss will print at the end of every step, so we hope we'll see it going down:"
   ]
  },
  {
   "cell_type": "code",
   "execution_count": 40,
   "id": "979ad3f9",
   "metadata": {
    "execution": {
     "iopub.execute_input": "2023-02-04T14:32:30.215900Z",
     "iopub.status.busy": "2023-02-04T14:32:30.215402Z",
     "iopub.status.idle": "2023-02-04T14:32:30.231357Z",
     "shell.execute_reply": "2023-02-04T14:32:30.230622Z"
    },
    "papermill": {
     "duration": 0.152032,
     "end_time": "2023-02-04T14:32:30.233721",
     "exception": false,
     "start_time": "2023-02-04T14:32:30.081689",
     "status": "completed"
    },
    "tags": []
   },
   "outputs": [
    {
     "name": "stdout",
     "output_type": "stream",
     "text": [
      "0.536; 0.502; 0.477; 0.454; 0.431; 0.409; 0.388; 0.367; 0.349; 0.336; 0.330; 0.326; 0.329; 0.304; 0.314; 0.296; 0.300; 0.289; "
     ]
    }
   ],
   "source": [
    "coeffs = train_model(18, lr=0.2) #the output you see below is not actually what's inside the coeffs variable. The coeffs variable is composed of the independent variables with their weight on predcting the outcome of survive. See below. "
   ]
  },
  {
   "cell_type": "markdown",
   "id": "f035120a",
   "metadata": {
    "papermill": {
     "duration": 0.133324,
     "end_time": "2023-02-04T14:32:30.498478",
     "exception": false,
     "start_time": "2023-02-04T14:32:30.365154",
     "status": "completed"
    },
    "tags": []
   },
   "source": [
    "coeffs returns the coefficients of the trained logistic regression model after training for 18 epochs with a learning rate of 0.2. The coefficients are a torch tensor that represent the influence of each independent variable (age, sex, fare, etc.) on the dependent variable (survival) in the shipwreck scenario.\n",
    "\n",
    "\n",
    "\n"
   ]
  },
  {
   "cell_type": "markdown",
   "id": "bd64e20e",
   "metadata": {
    "papermill": {
     "duration": 0.134161,
     "end_time": "2023-02-04T14:32:30.762711",
     "exception": false,
     "start_time": "2023-02-04T14:32:30.628550",
     "status": "completed"
    },
    "tags": []
   },
   "source": [
    "It does!\n",
    "\n",
    "Let's take a look at the coefficients for each column:"
   ]
  },
  {
   "cell_type": "code",
   "execution_count": 41,
   "id": "d74ec60b",
   "metadata": {
    "execution": {
     "iopub.execute_input": "2023-02-04T14:32:31.033818Z",
     "iopub.status.busy": "2023-02-04T14:32:31.032869Z",
     "iopub.status.idle": "2023-02-04T14:32:31.042585Z",
     "shell.execute_reply": "2023-02-04T14:32:31.041567Z"
    },
    "papermill": {
     "duration": 0.145569,
     "end_time": "2023-02-04T14:32:31.044748",
     "exception": false,
     "start_time": "2023-02-04T14:32:30.899179",
     "status": "completed"
    },
    "tags": []
   },
   "outputs": [
    {
     "data": {
      "text/plain": [
       "{'Age': tensor(-0.2694),\n",
       " 'SibSp': tensor(0.0901),\n",
       " 'Parch': tensor(0.2359),\n",
       " 'LogFare': tensor(0.0280),\n",
       " 'Sex_male': tensor(-0.3990),\n",
       " 'Sex_female': tensor(0.2345),\n",
       " 'Pclass_1': tensor(0.7232),\n",
       " 'Pclass_2': tensor(0.4112),\n",
       " 'Pclass_3': tensor(0.3601),\n",
       " 'Embarked_C': tensor(0.0955),\n",
       " 'Embarked_Q': tensor(0.2395),\n",
       " 'Embarked_S': tensor(0.2122)}"
      ]
     },
     "execution_count": 41,
     "metadata": {},
     "output_type": "execute_result"
    }
   ],
   "source": [
    "def show_coeffs(): return dict(zip(indep_cols, coeffs.requires_grad_(False)))\n",
    "show_coeffs()"
   ]
  },
  {
   "cell_type": "markdown",
   "id": "6d1e5d21",
   "metadata": {
    "papermill": {
     "duration": 0.134282,
     "end_time": "2023-02-04T14:32:31.312890",
     "exception": false,
     "start_time": "2023-02-04T14:32:31.178608",
     "status": "completed"
    },
    "tags": []
   },
   "source": [
    "*ChatGPT*\n",
    "\n",
    "The coefficients are the weights assigned to each independent variable in the prediction equation. They determine how much influence each independent variable has on the dependent variable (Survived). For example, in this case, the coefficient for 'Sex_male' is -0.3990, which means that being male has a negative influence on survival compared to being female. Similarly, the coefficient for 'Pclass_1' is 0.7232, which means that being in first class has a positive influence on survival compared to being in other classes."
   ]
  },
  {
   "cell_type": "markdown",
   "id": "e38dbe72",
   "metadata": {
    "papermill": {
     "duration": 0.132057,
     "end_time": "2023-02-04T14:32:31.580080",
     "exception": false,
     "start_time": "2023-02-04T14:32:31.448023",
     "status": "completed"
    },
    "tags": []
   },
   "source": [
    "## Measuring accuracy"
   ]
  },
  {
   "cell_type": "markdown",
   "id": "8b674411",
   "metadata": {
    "papermill": {
     "duration": 0.133141,
     "end_time": "2023-02-04T14:32:31.846461",
     "exception": false,
     "start_time": "2023-02-04T14:32:31.713320",
     "status": "completed"
    },
    "tags": []
   },
   "source": [
    "The Kaggle competition is not, however, scored by absolute error (which is our loss function). It's scored by *accuracy* -- the proportion of rows where we correctly predict survival. Let's see how accurate we were on the validation set. First, calculate the predictions:"
   ]
  },
  {
   "cell_type": "code",
   "execution_count": 42,
   "id": "0cdae1aa",
   "metadata": {
    "execution": {
     "iopub.execute_input": "2023-02-04T14:32:32.118533Z",
     "iopub.status.busy": "2023-02-04T14:32:32.118003Z",
     "iopub.status.idle": "2023-02-04T14:32:32.121985Z",
     "shell.execute_reply": "2023-02-04T14:32:32.121244Z"
    },
    "papermill": {
     "duration": 0.142253,
     "end_time": "2023-02-04T14:32:32.124148",
     "exception": false,
     "start_time": "2023-02-04T14:32:31.981895",
     "status": "completed"
    },
    "tags": []
   },
   "outputs": [],
   "source": [
    "preds = calc_preds(coeffs, val_indep)"
   ]
  },
  {
   "cell_type": "markdown",
   "id": "720ef108",
   "metadata": {
    "papermill": {
     "duration": 0.129448,
     "end_time": "2023-02-04T14:32:32.384334",
     "exception": false,
     "start_time": "2023-02-04T14:32:32.254886",
     "status": "completed"
    },
    "tags": []
   },
   "source": [
    "We'll assume that any passenger with a score of over `0.5` is predicted to survive. So that means we're correct for each row where `preds>0.5` is the same as the dependent variable:"
   ]
  },
  {
   "cell_type": "code",
   "execution_count": 43,
   "id": "b84debd2",
   "metadata": {
    "execution": {
     "iopub.execute_input": "2023-02-04T14:32:32.647112Z",
     "iopub.status.busy": "2023-02-04T14:32:32.646585Z",
     "iopub.status.idle": "2023-02-04T14:32:32.652946Z",
     "shell.execute_reply": "2023-02-04T14:32:32.652050Z"
    },
    "papermill": {
     "duration": 0.141744,
     "end_time": "2023-02-04T14:32:32.655145",
     "exception": false,
     "start_time": "2023-02-04T14:32:32.513401",
     "status": "completed"
    },
    "tags": []
   },
   "outputs": [
    {
     "data": {
      "text/plain": [
       "tensor([ True,  True,  True,  True,  True,  True,  True,  True,  True,  True, False, False, False,  True,  True, False])"
      ]
     },
     "execution_count": 43,
     "metadata": {},
     "output_type": "execute_result"
    }
   ],
   "source": [
    "results = val_dep.bool()==(preds>0.5)\n",
    "results[:16]"
   ]
  },
  {
   "cell_type": "markdown",
   "id": "ef98b571",
   "metadata": {
    "papermill": {
     "duration": 0.143262,
     "end_time": "2023-02-04T14:32:32.956889",
     "exception": false,
     "start_time": "2023-02-04T14:32:32.813627",
     "status": "completed"
    },
    "tags": []
   },
   "source": [
    "Let's see what our average accuracy is:"
   ]
  },
  {
   "cell_type": "code",
   "execution_count": 44,
   "id": "e77a8b8d",
   "metadata": {
    "execution": {
     "iopub.execute_input": "2023-02-04T14:32:33.225097Z",
     "iopub.status.busy": "2023-02-04T14:32:33.224780Z",
     "iopub.status.idle": "2023-02-04T14:32:33.231037Z",
     "shell.execute_reply": "2023-02-04T14:32:33.229987Z"
    },
    "papermill": {
     "duration": 0.143735,
     "end_time": "2023-02-04T14:32:33.233515",
     "exception": false,
     "start_time": "2023-02-04T14:32:33.089780",
     "status": "completed"
    },
    "tags": []
   },
   "outputs": [
    {
     "data": {
      "text/plain": [
       "tensor(0.7865)"
      ]
     },
     "execution_count": 44,
     "metadata": {},
     "output_type": "execute_result"
    }
   ],
   "source": [
    "results.float().mean()"
   ]
  },
  {
   "cell_type": "markdown",
   "id": "a6094c81",
   "metadata": {
    "papermill": {
     "duration": 0.132071,
     "end_time": "2023-02-04T14:32:33.498648",
     "exception": false,
     "start_time": "2023-02-04T14:32:33.366577",
     "status": "completed"
    },
    "tags": []
   },
   "source": [
    "That's not a bad start at all! We'll create a function so we can calcuate the accuracy easy for other models we train:"
   ]
  },
  {
   "cell_type": "code",
   "execution_count": 45,
   "id": "d36c2136",
   "metadata": {
    "execution": {
     "iopub.execute_input": "2023-02-04T14:32:33.772900Z",
     "iopub.status.busy": "2023-02-04T14:32:33.772582Z",
     "iopub.status.idle": "2023-02-04T14:32:33.780655Z",
     "shell.execute_reply": "2023-02-04T14:32:33.779699Z"
    },
    "papermill": {
     "duration": 0.149508,
     "end_time": "2023-02-04T14:32:33.783113",
     "exception": false,
     "start_time": "2023-02-04T14:32:33.633605",
     "status": "completed"
    },
    "tags": []
   },
   "outputs": [
    {
     "data": {
      "text/plain": [
       "tensor(0.7865)"
      ]
     },
     "execution_count": 45,
     "metadata": {},
     "output_type": "execute_result"
    }
   ],
   "source": [
    "def acc(coeffs): return (val_dep.bool()==(calc_preds(coeffs, val_indep)>0.5)).float().mean()\n",
    "acc(coeffs)"
   ]
  },
  {
   "cell_type": "markdown",
   "id": "534afdc1",
   "metadata": {
    "papermill": {
     "duration": 0.13749,
     "end_time": "2023-02-04T14:32:34.053933",
     "exception": false,
     "start_time": "2023-02-04T14:32:33.916443",
     "status": "completed"
    },
    "tags": []
   },
   "source": [
    "## Using sigmoid"
   ]
  },
  {
   "cell_type": "markdown",
   "id": "9abf01ba",
   "metadata": {
    "papermill": {
     "duration": 0.134956,
     "end_time": "2023-02-04T14:32:34.324293",
     "exception": false,
     "start_time": "2023-02-04T14:32:34.189337",
     "status": "completed"
    },
    "tags": []
   },
   "source": [
    "Looking at our predictions, there's one obvious problem -- some of our predictions of the probability of survival are `>1`, and some are `<0`:"
   ]
  },
  {
   "cell_type": "code",
   "execution_count": 46,
   "id": "ef969c69",
   "metadata": {
    "execution": {
     "iopub.execute_input": "2023-02-04T14:32:34.595430Z",
     "iopub.status.busy": "2023-02-04T14:32:34.594957Z",
     "iopub.status.idle": "2023-02-04T14:32:34.603016Z",
     "shell.execute_reply": "2023-02-04T14:32:34.601922Z"
    },
    "papermill": {
     "duration": 0.144931,
     "end_time": "2023-02-04T14:32:34.605487",
     "exception": false,
     "start_time": "2023-02-04T14:32:34.460556",
     "status": "completed"
    },
    "tags": []
   },
   "outputs": [
    {
     "data": {
      "text/plain": [
       "tensor([ 0.8160,  0.1295, -0.0148,  0.1831,  0.1520,  0.1350,  0.7279,  0.7754,  0.3222,  0.6740,  0.0753,  0.0389,  0.2216,  0.7631,\n",
       "         0.0678,  0.3997,  0.3324,  0.8278,  0.1078,  0.7126,  0.1023,  0.3627,  0.9937,  0.8050,  0.1153,  0.1455,  0.8652,  0.3425])"
      ]
     },
     "execution_count": 46,
     "metadata": {},
     "output_type": "execute_result"
    }
   ],
   "source": [
    "preds[:28]"
   ]
  },
  {
   "cell_type": "markdown",
   "id": "886bf148",
   "metadata": {
    "papermill": {
     "duration": 0.139012,
     "end_time": "2023-02-04T14:32:34.882681",
     "exception": false,
     "start_time": "2023-02-04T14:32:34.743669",
     "status": "completed"
    },
    "tags": []
   },
   "source": [
    "To fix this, we should pass every prediction through the *sigmoid function*, which has a minimum at zero and maximum at one, and is defined as follows:"
   ]
  },
  {
   "cell_type": "code",
   "execution_count": 47,
   "id": "c83dc460",
   "metadata": {
    "execution": {
     "iopub.execute_input": "2023-02-04T14:32:35.153479Z",
     "iopub.status.busy": "2023-02-04T14:32:35.152564Z",
     "iopub.status.idle": "2023-02-04T14:32:36.352380Z",
     "shell.execute_reply": "2023-02-04T14:32:36.351113Z"
    },
    "papermill": {
     "duration": 1.338009,
     "end_time": "2023-02-04T14:32:36.356687",
     "exception": false,
     "start_time": "2023-02-04T14:32:35.018678",
     "status": "completed"
    },
    "tags": []
   },
   "outputs": [
    {
     "data": {
      "image/png": "[encoded data removed]",
      "text/plain": [
       "<Figure size 432x288 with 1 Axes>"
      ]
     },
     "metadata": {
      "needs_background": "light"
     },
     "output_type": "display_data"
    }
   ],
   "source": [
    "import sympy\n",
    "sympy.plot(\"1/(1+exp(-x))\", xlim=(-30,30));"
   ]
  },
  {
   "cell_type": "markdown",
   "id": "3becf6ff",
   "metadata": {
    "papermill": {
     "duration": 0.132026,
     "end_time": "2023-02-04T14:32:36.640220",
     "exception": false,
     "start_time": "2023-02-04T14:32:36.508194",
     "status": "completed"
    },
    "tags": []
   },
   "source": [
    "PyTorch already defines that function for us, so we can modify `calc_preds` to use it:"
   ]
  },
  {
   "cell_type": "code",
   "execution_count": 48,
   "id": "620d7ed1",
   "metadata": {
    "execution": {
     "iopub.execute_input": "2023-02-04T14:32:36.911523Z",
     "iopub.status.busy": "2023-02-04T14:32:36.910940Z",
     "iopub.status.idle": "2023-02-04T14:32:36.915209Z",
     "shell.execute_reply": "2023-02-04T14:32:36.914532Z"
    },
    "papermill": {
     "duration": 0.143244,
     "end_time": "2023-02-04T14:32:36.918262",
     "exception": false,
     "start_time": "2023-02-04T14:32:36.775018",
     "status": "completed"
    },
    "tags": []
   },
   "outputs": [],
   "source": [
    "def calc_preds(coeffs, indeps): return torch.sigmoid((indeps*coeffs).sum(axis=1))"
   ]
  },
  {
   "cell_type": "markdown",
   "id": "1c0c09bf",
   "metadata": {
    "papermill": {
     "duration": 0.135041,
     "end_time": "2023-02-04T14:32:37.189292",
     "exception": false,
     "start_time": "2023-02-04T14:32:37.054251",
     "status": "completed"
    },
    "tags": []
   },
   "source": [
    "Let's train a new model now, using this updated function to calculate predictions:"
   ]
  },
  {
   "cell_type": "code",
   "execution_count": 49,
   "id": "ca0173dc",
   "metadata": {
    "execution": {
     "iopub.execute_input": "2023-02-04T14:32:37.468810Z",
     "iopub.status.busy": "2023-02-04T14:32:37.468272Z",
     "iopub.status.idle": "2023-02-04T14:32:37.493518Z",
     "shell.execute_reply": "2023-02-04T14:32:37.492241Z"
    },
    "papermill": {
     "duration": 0.167823,
     "end_time": "2023-02-04T14:32:37.495931",
     "exception": false,
     "start_time": "2023-02-04T14:32:37.328108",
     "status": "completed"
    },
    "tags": []
   },
   "outputs": [
    {
     "name": "stdout",
     "output_type": "stream",
     "text": [
      "0.510; 0.327; 0.294; 0.207; 0.201; 0.199; 0.198; 0.197; 0.196; 0.196; 0.196; 0.195; 0.195; 0.195; 0.195; 0.195; 0.195; 0.195; 0.194; 0.194; 0.194; 0.194; 0.194; 0.194; 0.194; 0.194; 0.194; 0.194; 0.194; 0.194; "
     ]
    }
   ],
   "source": [
    "coeffs = train_model(lr=100)"
   ]
  },
  {
   "cell_type": "markdown",
   "id": "fc3641a9",
   "metadata": {
    "papermill": {
     "duration": 0.142758,
     "end_time": "2023-02-04T14:32:37.773439",
     "exception": false,
     "start_time": "2023-02-04T14:32:37.630681",
     "status": "completed"
    },
    "tags": []
   },
   "source": [
    "The loss has improved by a lot. Let's check the accuracy:"
   ]
  },
  {
   "cell_type": "code",
   "execution_count": 50,
   "id": "8613305d",
   "metadata": {
    "execution": {
     "iopub.execute_input": "2023-02-04T14:32:38.049962Z",
     "iopub.status.busy": "2023-02-04T14:32:38.049627Z",
     "iopub.status.idle": "2023-02-04T14:32:38.057089Z",
     "shell.execute_reply": "2023-02-04T14:32:38.055975Z"
    },
    "papermill": {
     "duration": 0.146073,
     "end_time": "2023-02-04T14:32:38.059315",
     "exception": false,
     "start_time": "2023-02-04T14:32:37.913242",
     "status": "completed"
    },
    "tags": []
   },
   "outputs": [
    {
     "data": {
      "text/plain": [
       "tensor(0.8258)"
      ]
     },
     "execution_count": 50,
     "metadata": {},
     "output_type": "execute_result"
    }
   ],
   "source": [
    "acc(coeffs)"
   ]
  },
  {
   "cell_type": "markdown",
   "id": "ccd0af9e",
   "metadata": {
    "papermill": {
     "duration": 0.142592,
     "end_time": "2023-02-04T14:32:38.340945",
     "exception": false,
     "start_time": "2023-02-04T14:32:38.198353",
     "status": "completed"
    },
    "tags": []
   },
   "source": [
    "That's improved too! Here's the coefficients of our trained model:"
   ]
  },
  {
   "cell_type": "code",
   "execution_count": 51,
   "id": "827d06e5",
   "metadata": {
    "execution": {
     "iopub.execute_input": "2023-02-04T14:32:38.621734Z",
     "iopub.status.busy": "2023-02-04T14:32:38.621406Z",
     "iopub.status.idle": "2023-02-04T14:32:38.632224Z",
     "shell.execute_reply": "2023-02-04T14:32:38.631332Z"
    },
    "papermill": {
     "duration": 0.151187,
     "end_time": "2023-02-04T14:32:38.634855",
     "exception": false,
     "start_time": "2023-02-04T14:32:38.483668",
     "status": "completed"
    },
    "tags": []
   },
   "outputs": [
    {
     "data": {
      "text/plain": [
       "{'Age': tensor(-1.5061),\n",
       " 'SibSp': tensor(-1.1575),\n",
       " 'Parch': tensor(-0.4267),\n",
       " 'LogFare': tensor(0.2543),\n",
       " 'Sex_male': tensor(-10.3320),\n",
       " 'Sex_female': tensor(8.4185),\n",
       " 'Pclass_1': tensor(3.8389),\n",
       " 'Pclass_2': tensor(2.1398),\n",
       " 'Pclass_3': tensor(-6.2331),\n",
       " 'Embarked_C': tensor(1.4771),\n",
       " 'Embarked_Q': tensor(2.1168),\n",
       " 'Embarked_S': tensor(-4.7958)}"
      ]
     },
     "execution_count": 51,
     "metadata": {},
     "output_type": "execute_result"
    }
   ],
   "source": [
    "show_coeffs()"
   ]
  },
  {
   "cell_type": "markdown",
   "id": "a89932a9",
   "metadata": {
    "papermill": {
     "duration": 0.136297,
     "end_time": "2023-02-04T14:32:38.906824",
     "exception": false,
     "start_time": "2023-02-04T14:32:38.770527",
     "status": "completed"
    },
    "tags": []
   },
   "source": [
    "These coefficients seem reasonable -- in general, older people and males were less likely to survive, and first class passengers were more likely to survive."
   ]
  },
  {
   "cell_type": "markdown",
   "id": "4c81cf51",
   "metadata": {
    "papermill": {
     "duration": 0.136085,
     "end_time": "2023-02-04T14:32:39.181777",
     "exception": false,
     "start_time": "2023-02-04T14:32:39.045692",
     "status": "completed"
    },
    "tags": []
   },
   "source": [
    "## Submitting to Kaggle"
   ]
  },
  {
   "cell_type": "markdown",
   "id": "39412b3e",
   "metadata": {
    "papermill": {
     "duration": 0.136054,
     "end_time": "2023-02-04T14:32:39.454735",
     "exception": false,
     "start_time": "2023-02-04T14:32:39.318681",
     "status": "completed"
    },
    "tags": []
   },
   "source": [
    "Now that we've got a trained model, we can prepare a submission to Kaggle. To do that, first we need to read the test set:"
   ]
  },
  {
   "cell_type": "code",
   "execution_count": 52,
   "id": "233dd550",
   "metadata": {
    "execution": {
     "iopub.execute_input": "2023-02-04T14:32:39.731309Z",
     "iopub.status.busy": "2023-02-04T14:32:39.730980Z",
     "iopub.status.idle": "2023-02-04T14:32:39.744845Z",
     "shell.execute_reply": "2023-02-04T14:32:39.743978Z"
    },
    "papermill": {
     "duration": 0.155625,
     "end_time": "2023-02-04T14:32:39.747596",
     "exception": false,
     "start_time": "2023-02-04T14:32:39.591971",
     "status": "completed"
    },
    "tags": []
   },
   "outputs": [],
   "source": [
    "tst_df = pd.read_csv(path/'test.csv')"
   ]
  },
  {
   "cell_type": "markdown",
   "id": "7569733d",
   "metadata": {
    "papermill": {
     "duration": 0.137236,
     "end_time": "2023-02-04T14:32:40.025305",
     "exception": false,
     "start_time": "2023-02-04T14:32:39.888069",
     "status": "completed"
    },
    "tags": []
   },
   "source": [
    "In this case, it turns out that the test set is missing `Fare` for one passenger. We'll just fill it with `0` to avoid problems:"
   ]
  },
  {
   "cell_type": "code",
   "execution_count": 53,
   "id": "64ae95ac",
   "metadata": {
    "execution": {
     "iopub.execute_input": "2023-02-04T14:32:40.301566Z",
     "iopub.status.busy": "2023-02-04T14:32:40.301056Z",
     "iopub.status.idle": "2023-02-04T14:32:40.305740Z",
     "shell.execute_reply": "2023-02-04T14:32:40.305001Z"
    },
    "papermill": {
     "duration": 0.147664,
     "end_time": "2023-02-04T14:32:40.307869",
     "exception": false,
     "start_time": "2023-02-04T14:32:40.160205",
     "status": "completed"
    },
    "tags": []
   },
   "outputs": [],
   "source": [
    "tst_df['Fare'] = tst_df.Fare.fillna(0)"
   ]
  },
  {
   "cell_type": "markdown",
   "id": "e36bfde3",
   "metadata": {
    "papermill": {
     "duration": 0.136146,
     "end_time": "2023-02-04T14:32:40.579100",
     "exception": false,
     "start_time": "2023-02-04T14:32:40.442954",
     "status": "completed"
    },
    "tags": []
   },
   "source": [
    "Now we can just copy the same steps we did to our training set and do the same exact things on our test set to preprocess the data:"
   ]
  },
  {
   "cell_type": "code",
   "execution_count": 54,
   "id": "3f736f1c",
   "metadata": {
    "execution": {
     "iopub.execute_input": "2023-02-04T14:32:40.857134Z",
     "iopub.status.busy": "2023-02-04T14:32:40.856402Z",
     "iopub.status.idle": "2023-02-04T14:32:40.874158Z",
     "shell.execute_reply": "2023-02-04T14:32:40.873436Z"
    },
    "papermill": {
     "duration": 0.163077,
     "end_time": "2023-02-04T14:32:40.876819",
     "exception": false,
     "start_time": "2023-02-04T14:32:40.713742",
     "status": "completed"
    },
    "tags": []
   },
   "outputs": [],
   "source": [
    "tst_df.fillna(modes, inplace=True)\n",
    "tst_df['LogFare'] = np.log(tst_df['Fare']+1)\n",
    "tst_df = pd.get_dummies(tst_df, columns=[\"Sex\",\"Pclass\",\"Embarked\"])\n",
    "\n",
    "tst_indep = tensor(tst_df[indep_cols].values, dtype=torch.float)\n",
    "tst_indep = tst_indep / vals"
   ]
  },
  {
   "cell_type": "markdown",
   "id": "8c866941",
   "metadata": {
    "papermill": {
     "duration": 0.13734,
     "end_time": "2023-02-04T14:32:41.158275",
     "exception": false,
     "start_time": "2023-02-04T14:32:41.020935",
     "status": "completed"
    },
    "tags": []
   },
   "source": [
    "Let's calculate our predictions of which passengers survived in the test set:"
   ]
  },
  {
   "cell_type": "code",
   "execution_count": 55,
   "id": "777bd777",
   "metadata": {
    "execution": {
     "iopub.execute_input": "2023-02-04T14:32:41.431328Z",
     "iopub.status.busy": "2023-02-04T14:32:41.431010Z",
     "iopub.status.idle": "2023-02-04T14:32:41.436869Z",
     "shell.execute_reply": "2023-02-04T14:32:41.435924Z"
    },
    "papermill": {
     "duration": 0.143456,
     "end_time": "2023-02-04T14:32:41.439161",
     "exception": false,
     "start_time": "2023-02-04T14:32:41.295705",
     "status": "completed"
    },
    "tags": []
   },
   "outputs": [],
   "source": [
    "tst_df['Survived'] = (calc_preds(tst_indep, coeffs)>0.5).int()"
   ]
  },
  {
   "cell_type": "markdown",
   "id": "1003b7bf",
   "metadata": {
    "papermill": {
     "duration": 0.13801,
     "end_time": "2023-02-04T14:32:41.711778",
     "exception": false,
     "start_time": "2023-02-04T14:32:41.573768",
     "status": "completed"
    },
    "tags": []
   },
   "source": [
    "The sample submission on the Kaggle competition site shows that we're expected to upload a CSV with just `PassengerId` and `Survived`, so let's create that and save it:"
   ]
  },
  {
   "cell_type": "code",
   "execution_count": 56,
   "id": "94dd80f8",
   "metadata": {
    "execution": {
     "iopub.execute_input": "2023-02-04T14:32:41.989772Z",
     "iopub.status.busy": "2023-02-04T14:32:41.989200Z",
     "iopub.status.idle": "2023-02-04T14:32:42.002010Z",
     "shell.execute_reply": "2023-02-04T14:32:42.001121Z"
    },
    "papermill": {
     "duration": 0.15661,
     "end_time": "2023-02-04T14:32:42.004757",
     "exception": false,
     "start_time": "2023-02-04T14:32:41.848147",
     "status": "completed"
    },
    "tags": []
   },
   "outputs": [],
   "source": [
    "sub_df = tst_df[['PassengerId','Survived']]\n",
    "sub_df.to_csv('sub.csv', index=False)"
   ]
  },
  {
   "cell_type": "markdown",
   "id": "d77570d0",
   "metadata": {
    "papermill": {
     "duration": 0.137414,
     "end_time": "2023-02-04T14:32:42.283872",
     "exception": false,
     "start_time": "2023-02-04T14:32:42.146458",
     "status": "completed"
    },
    "tags": []
   },
   "source": [
    "We can check the first few rows of the file to make sure it looks reasonable:"
   ]
  },
  {
   "cell_type": "code",
   "execution_count": 57,
   "id": "60a9913d",
   "metadata": {
    "execution": {
     "iopub.execute_input": "2023-02-04T14:32:42.557032Z",
     "iopub.status.busy": "2023-02-04T14:32:42.556568Z",
     "iopub.status.idle": "2023-02-04T14:32:43.667023Z",
     "shell.execute_reply": "2023-02-04T14:32:43.666049Z"
    },
    "papermill": {
     "duration": 1.249752,
     "end_time": "2023-02-04T14:32:43.669693",
     "exception": false,
     "start_time": "2023-02-04T14:32:42.419941",
     "status": "completed"
    },
    "tags": []
   },
   "outputs": [
    {
     "name": "stdout",
     "output_type": "stream",
     "text": [
      "PassengerId,Survived\r\n",
      "892,0\r\n",
      "893,0\r\n",
      "894,0\r\n",
      "895,0\r\n",
      "896,0\r\n",
      "897,0\r\n",
      "898,1\r\n",
      "899,0\r\n",
      "900,1\r\n"
     ]
    }
   ],
   "source": [
    "!head sub.csv"
   ]
  },
  {
   "cell_type": "markdown",
   "id": "529fa278",
   "metadata": {
    "papermill": {
     "duration": 0.143603,
     "end_time": "2023-02-04T14:32:43.982118",
     "exception": false,
     "start_time": "2023-02-04T14:32:43.838515",
     "status": "completed"
    },
    "tags": []
   },
   "source": [
    "When you click \"save version\" in Kaggle, and wait for the notebook to run, you'll see that `sub.csv` appears in the \"Data\" tab. Clicking on that file will show a *Submit* button, which allows you to submit to the competition."
   ]
  },
  {
   "cell_type": "markdown",
   "id": "d8ffd71d",
   "metadata": {
    "papermill": {
     "duration": 0.138987,
     "end_time": "2023-02-04T14:32:44.259166",
     "exception": false,
     "start_time": "2023-02-04T14:32:44.120179",
     "status": "completed"
    },
    "tags": []
   },
   "source": [
    "## Using matrix product"
   ]
  },
  {
   "cell_type": "markdown",
   "id": "d1f1c414",
   "metadata": {
    "papermill": {
     "duration": 0.133529,
     "end_time": "2023-02-04T14:32:44.530339",
     "exception": false,
     "start_time": "2023-02-04T14:32:44.396810",
     "status": "completed"
    },
    "tags": []
   },
   "source": [
    "We can make things quite a bit neater...\n",
    "\n",
    "Take a look at the inner-most calculation we're doing to get the predictions:"
   ]
  },
  {
   "cell_type": "code",
   "execution_count": 58,
   "id": "31223328",
   "metadata": {
    "execution": {
     "iopub.execute_input": "2023-02-04T14:32:44.809317Z",
     "iopub.status.busy": "2023-02-04T14:32:44.808758Z",
     "iopub.status.idle": "2023-02-04T14:32:44.818414Z",
     "shell.execute_reply": "2023-02-04T14:32:44.817472Z"
    },
    "papermill": {
     "duration": 0.154739,
     "end_time": "2023-02-04T14:32:44.820830",
     "exception": false,
     "start_time": "2023-02-04T14:32:44.666091",
     "status": "completed"
    },
    "tags": []
   },
   "outputs": [
    {
     "data": {
      "text/plain": [
       "tensor([ 12.3288, -14.8119, -15.4540, -13.1513, -13.3512, -13.6469,   3.6248,   5.3429, -22.0878,   3.1233, -21.8742, -15.6421, -21.5504,\n",
       "          3.9393, -21.9190, -12.0010, -12.3775,   5.3550, -13.5880,  -3.1015, -21.7237, -12.2081,  12.9767,   4.7427, -21.6525, -14.9135,\n",
       "         -2.7433, -12.3210, -21.5886,   3.9387,   5.3890,  -3.6196, -21.6296, -21.8454,  12.2159,  -3.2275, -12.0289,  13.4560, -21.7230,\n",
       "         -3.1366, -13.2462, -21.7230, -13.6831,  13.3092, -21.6477,  -3.5868, -21.6854, -21.8316, -14.8158,  -2.9386,  -5.3103, -22.2384,\n",
       "        -22.1097, -21.7466, -13.3780, -13.4909, -14.8119, -22.0690, -21.6666, -21.7818,  -5.4439, -21.7407, -12.6551, -21.6671,   4.9238,\n",
       "        -11.5777, -13.3323, -21.9638, -15.3030,   5.0243, -21.7614,   3.1820, -13.4721, -21.7170, -11.6066, -21.5737, -21.7230, -11.9652,\n",
       "        -13.2382, -13.7599, -13.2170,  13.1347, -21.7049, -21.7268,   4.9207,  -7.3198,  -5.3081,   7.1065,  11.4948, -13.3135, -21.8723,\n",
       "        -21.7230,  13.3603, -15.5670,   3.4105,  -7.2857, -13.7197,   3.6909,   3.9763, -14.7227, -21.8268,   3.9387, -21.8743, -21.8367,\n",
       "        -11.8518, -13.6712, -21.8299,   4.9440,  -5.4471, -21.9666,   5.1333,  -3.2187, -11.6008,  13.7920, -21.7230,  12.6369,  -3.7268,\n",
       "        -14.8119, -22.0637,  12.9468, -22.1610,  -6.1827, -14.8119,  -3.2838, -15.4540, -11.6950,  -2.9926,  -3.0110, -21.5664, -13.8268,\n",
       "          7.3426, -21.8418,   5.0744,   5.2582,  13.3415, -21.6289, -13.9898, -21.8112,  -7.3316,   5.2296, -13.4453,  12.7891, -22.1235,\n",
       "        -14.9625,  -3.4339,   6.3089, -21.9839,   3.1968,   7.2400,   2.8558,  -3.1187,   3.7965,   5.4667, -15.1101, -15.0597, -22.9391,\n",
       "        -21.7230,  -3.0346, -13.5206, -21.7011,  13.4425,  -7.2690, -21.8335, -12.0582,  13.0489,   6.7993,   5.2160,   5.0794, -12.6957,\n",
       "        -12.1838,  -3.0873, -21.6070,   7.0744, -21.7170, -22.1001,   6.8159, -11.6002, -21.6310])"
      ]
     },
     "execution_count": 58,
     "metadata": {},
     "output_type": "execute_result"
    }
   ],
   "source": [
    "(val_indep*coeffs).sum(axis=1)"
   ]
  },
  {
   "cell_type": "markdown",
   "id": "a0c23cb6",
   "metadata": {
    "papermill": {
     "duration": 0.13929,
     "end_time": "2023-02-04T14:32:45.097251",
     "exception": false,
     "start_time": "2023-02-04T14:32:44.957961",
     "status": "completed"
    },
    "tags": []
   },
   "source": [
    "Multiplying elements together and then adding across rows is identical to doing a matrix-vector product! Python uses the `@` operator to indicate matrix products, and is supported by PyTorch tensors. Therefore, we can replicate the above calculate more simply like so:"
   ]
  },
  {
   "cell_type": "code",
   "execution_count": 59,
   "id": "016436f3",
   "metadata": {
    "execution": {
     "iopub.execute_input": "2023-02-04T14:32:45.371876Z",
     "iopub.status.busy": "2023-02-04T14:32:45.371546Z",
     "iopub.status.idle": "2023-02-04T14:32:45.387943Z",
     "shell.execute_reply": "2023-02-04T14:32:45.387138Z"
    },
    "papermill": {
     "duration": 0.158084,
     "end_time": "2023-02-04T14:32:45.390205",
     "exception": false,
     "start_time": "2023-02-04T14:32:45.232121",
     "status": "completed"
    },
    "tags": []
   },
   "outputs": [
    {
     "data": {
      "text/plain": [
       "tensor([ 12.3288, -14.8119, -15.4540, -13.1513, -13.3511, -13.6468,   3.6248,   5.3429, -22.0878,   3.1233, -21.8742, -15.6421, -21.5504,\n",
       "          3.9393, -21.9190, -12.0010, -12.3775,   5.3550, -13.5880,  -3.1015, -21.7237, -12.2081,  12.9767,   4.7427, -21.6525, -14.9135,\n",
       "         -2.7433, -12.3210, -21.5886,   3.9387,   5.3890,  -3.6196, -21.6296, -21.8454,  12.2159,  -3.2275, -12.0289,  13.4560, -21.7230,\n",
       "         -3.1366, -13.2462, -21.7230, -13.6831,  13.3092, -21.6477,  -3.5868, -21.6854, -21.8316, -14.8158,  -2.9386,  -5.3103, -22.2384,\n",
       "        -22.1097, -21.7466, -13.3780, -13.4909, -14.8119, -22.0690, -21.6666, -21.7818,  -5.4439, -21.7407, -12.6551, -21.6671,   4.9238,\n",
       "        -11.5777, -13.3323, -21.9638, -15.3030,   5.0243, -21.7614,   3.1820, -13.4721, -21.7170, -11.6066, -21.5737, -21.7230, -11.9652,\n",
       "        -13.2382, -13.7599, -13.2170,  13.1347, -21.7049, -21.7268,   4.9207,  -7.3198,  -5.3081,   7.1065,  11.4948, -13.3135, -21.8723,\n",
       "        -21.7230,  13.3603, -15.5670,   3.4105,  -7.2857, -13.7197,   3.6909,   3.9763, -14.7227, -21.8268,   3.9387, -21.8743, -21.8367,\n",
       "        -11.8518, -13.6712, -21.8299,   4.9440,  -5.4471, -21.9666,   5.1333,  -3.2187, -11.6008,  13.7920, -21.7230,  12.6369,  -3.7268,\n",
       "        -14.8119, -22.0637,  12.9468, -22.1610,  -6.1827, -14.8119,  -3.2838, -15.4540, -11.6950,  -2.9926,  -3.0110, -21.5664, -13.8268,\n",
       "          7.3426, -21.8418,   5.0744,   5.2582,  13.3415, -21.6289, -13.9898, -21.8112,  -7.3316,   5.2296, -13.4453,  12.7891, -22.1235,\n",
       "        -14.9625,  -3.4339,   6.3089, -21.9839,   3.1968,   7.2400,   2.8558,  -3.1187,   3.7965,   5.4667, -15.1101, -15.0597, -22.9391,\n",
       "        -21.7230,  -3.0346, -13.5206, -21.7011,  13.4425,  -7.2690, -21.8335, -12.0582,  13.0489,   6.7993,   5.2160,   5.0794, -12.6957,\n",
       "        -12.1838,  -3.0873, -21.6070,   7.0744, -21.7170, -22.1001,   6.8159, -11.6002, -21.6310])"
      ]
     },
     "execution_count": 59,
     "metadata": {},
     "output_type": "execute_result"
    }
   ],
   "source": [
    "val_indep@coeffs"
   ]
  },
  {
   "cell_type": "markdown",
   "id": "3372cee0",
   "metadata": {
    "papermill": {
     "duration": 0.135339,
     "end_time": "2023-02-04T14:32:45.664293",
     "exception": false,
     "start_time": "2023-02-04T14:32:45.528954",
     "status": "completed"
    },
    "tags": []
   },
   "source": [
    "It also turns out that this is much faster, because matrix products in PyTorch are very highly optimised.\n",
    "\n",
    "Let's use this to replace how `calc_preds` works:"
   ]
  },
  {
   "cell_type": "code",
   "execution_count": 60,
   "id": "3aa43d05",
   "metadata": {
    "execution": {
     "iopub.execute_input": "2023-02-04T14:32:45.943309Z",
     "iopub.status.busy": "2023-02-04T14:32:45.942969Z",
     "iopub.status.idle": "2023-02-04T14:32:45.947663Z",
     "shell.execute_reply": "2023-02-04T14:32:45.946745Z"
    },
    "papermill": {
     "duration": 0.145752,
     "end_time": "2023-02-04T14:32:45.949697",
     "exception": false,
     "start_time": "2023-02-04T14:32:45.803945",
     "status": "completed"
    },
    "tags": []
   },
   "outputs": [],
   "source": [
    "def calc_preds(coeffs, indeps): return torch.sigmoid(indeps@coeffs)"
   ]
  },
  {
   "cell_type": "markdown",
   "id": "e75042bb",
   "metadata": {
    "papermill": {
     "duration": 0.135883,
     "end_time": "2023-02-04T14:32:46.222302",
     "exception": false,
     "start_time": "2023-02-04T14:32:46.086419",
     "status": "completed"
    },
    "tags": []
   },
   "source": [
    "In order to do matrix-matrix products (which we'll need in the next section), we need to turn `coeffs` into a column vector (i.e. a matrix with a single column), which we can do by passing a second argument `1` to `torch.rand()`, indicating that we want our coefficients to have one column:"
   ]
  },
  {
   "cell_type": "code",
   "execution_count": 61,
   "id": "c5a40cbd",
   "metadata": {
    "execution": {
     "iopub.execute_input": "2023-02-04T14:32:46.500546Z",
     "iopub.status.busy": "2023-02-04T14:32:46.500217Z",
     "iopub.status.idle": "2023-02-04T14:32:46.504967Z",
     "shell.execute_reply": "2023-02-04T14:32:46.503960Z"
    },
    "papermill": {
     "duration": 0.146629,
     "end_time": "2023-02-04T14:32:46.507327",
     "exception": false,
     "start_time": "2023-02-04T14:32:46.360698",
     "status": "completed"
    },
    "tags": []
   },
   "outputs": [],
   "source": [
    "def init_coeffs(): return (torch.rand(n_coeff, 1)*0.1).requires_grad_()"
   ]
  },
  {
   "cell_type": "markdown",
   "id": "84c73b74",
   "metadata": {
    "papermill": {
     "duration": 0.135247,
     "end_time": "2023-02-04T14:32:46.781165",
     "exception": false,
     "start_time": "2023-02-04T14:32:46.645918",
     "status": "completed"
    },
    "tags": []
   },
   "source": [
    "We'll also need to turn our dependent variable into a column vector, which we can do by indexing the column dimension with the special value `None`, which tells PyTorch to add a new dimension in this position:"
   ]
  },
  {
   "cell_type": "code",
   "execution_count": 62,
   "id": "a3da5ae9",
   "metadata": {
    "execution": {
     "iopub.execute_input": "2023-02-04T14:32:47.062598Z",
     "iopub.status.busy": "2023-02-04T14:32:47.061622Z",
     "iopub.status.idle": "2023-02-04T14:32:47.066357Z",
     "shell.execute_reply": "2023-02-04T14:32:47.065662Z"
    },
    "papermill": {
     "duration": 0.150883,
     "end_time": "2023-02-04T14:32:47.068659",
     "exception": false,
     "start_time": "2023-02-04T14:32:46.917776",
     "status": "completed"
    },
    "tags": []
   },
   "outputs": [],
   "source": [
    "trn_dep = trn_dep[:,None]\n",
    "val_dep = val_dep[:,None]"
   ]
  },
  {
   "cell_type": "markdown",
   "id": "0e9a5d6d",
   "metadata": {
    "papermill": {
     "duration": 0.13611,
     "end_time": "2023-02-04T14:32:47.341462",
     "exception": false,
     "start_time": "2023-02-04T14:32:47.205352",
     "status": "completed"
    },
    "tags": []
   },
   "source": [
    "We can now train our model as before and confirm we get identical outputs...:"
   ]
  },
  {
   "cell_type": "code",
   "execution_count": 63,
   "id": "e62bd1de",
   "metadata": {
    "execution": {
     "iopub.execute_input": "2023-02-04T14:32:47.614656Z",
     "iopub.status.busy": "2023-02-04T14:32:47.614086Z",
     "iopub.status.idle": "2023-02-04T14:32:47.636106Z",
     "shell.execute_reply": "2023-02-04T14:32:47.635407Z"
    },
    "papermill": {
     "duration": 0.161036,
     "end_time": "2023-02-04T14:32:47.638237",
     "exception": false,
     "start_time": "2023-02-04T14:32:47.477201",
     "status": "completed"
    },
    "tags": []
   },
   "outputs": [
    {
     "name": "stdout",
     "output_type": "stream",
     "text": [
      "0.512; 0.323; 0.290; 0.205; 0.200; 0.198; 0.197; 0.197; 0.196; 0.196; 0.196; 0.195; 0.195; 0.195; 0.195; 0.195; 0.195; 0.194; 0.194; 0.194; 0.194; 0.194; 0.194; 0.194; 0.194; 0.194; 0.194; 0.194; 0.194; 0.194; "
     ]
    }
   ],
   "source": [
    "coeffs = train_model(lr=100)"
   ]
  },
  {
   "cell_type": "markdown",
   "id": "c181b2a1",
   "metadata": {
    "papermill": {
     "duration": 0.14073,
     "end_time": "2023-02-04T14:32:47.922680",
     "exception": false,
     "start_time": "2023-02-04T14:32:47.781950",
     "status": "completed"
    },
    "tags": []
   },
   "source": [
    "...and identical accuracy:"
   ]
  },
  {
   "cell_type": "code",
   "execution_count": 64,
   "id": "3b7def14",
   "metadata": {
    "execution": {
     "iopub.execute_input": "2023-02-04T14:32:48.195911Z",
     "iopub.status.busy": "2023-02-04T14:32:48.195561Z",
     "iopub.status.idle": "2023-02-04T14:32:48.202448Z",
     "shell.execute_reply": "2023-02-04T14:32:48.201483Z"
    },
    "papermill": {
     "duration": 0.146224,
     "end_time": "2023-02-04T14:32:48.204637",
     "exception": false,
     "start_time": "2023-02-04T14:32:48.058413",
     "status": "completed"
    },
    "tags": []
   },
   "outputs": [
    {
     "data": {
      "text/plain": [
       "tensor(0.8258)"
      ]
     },
     "execution_count": 64,
     "metadata": {},
     "output_type": "execute_result"
    }
   ],
   "source": [
    "acc(coeffs)"
   ]
  },
  {
   "cell_type": "markdown",
   "id": "c77acd5e",
   "metadata": {
    "papermill": {
     "duration": 0.135505,
     "end_time": "2023-02-04T14:32:48.483991",
     "exception": false,
     "start_time": "2023-02-04T14:32:48.348486",
     "status": "completed"
    },
    "tags": []
   },
   "source": [
    "## A neural network"
   ]
  },
  {
   "cell_type": "markdown",
   "id": "3843f8a7",
   "metadata": {
    "papermill": {
     "duration": 0.139477,
     "end_time": "2023-02-04T14:32:48.759250",
     "exception": false,
     "start_time": "2023-02-04T14:32:48.619773",
     "status": "completed"
    },
    "tags": []
   },
   "source": [
    "We've now got what we need to implement our neural network.\n",
    "\n",
    "First, we'll need to create coefficients for each of our layers. Our first set of coefficients will take our `n_coeff` inputs, and create `n_hidden` outputs. We can choose whatever `n_hidden` we like -- a higher number gives our network more flexibility, but makes it slower and harder to train. So we need a matrix of size `n_coeff` by `n_hidden`. We'll divide these coefficients by `n_hidden` so that when we sum them up in the next layer we'll end up with similar magnitude numbers to what we started with.\n",
    "\n",
    "Then our second layer will need to take the `n_hidden` inputs and create a single output, so that means we need a `n_hidden` by `1` matrix there. The second layer will also need a constant term added."
   ]
  },
  {
   "cell_type": "code",
   "execution_count": 65,
   "id": "465b36d2",
   "metadata": {
    "execution": {
     "iopub.execute_input": "2023-02-04T14:32:49.045244Z",
     "iopub.status.busy": "2023-02-04T14:32:49.044640Z",
     "iopub.status.idle": "2023-02-04T14:32:49.050634Z",
     "shell.execute_reply": "2023-02-04T14:32:49.049571Z"
    },
    "papermill": {
     "duration": 0.153093,
     "end_time": "2023-02-04T14:32:49.053100",
     "exception": false,
     "start_time": "2023-02-04T14:32:48.900007",
     "status": "completed"
    },
    "tags": []
   },
   "outputs": [],
   "source": [
    "def init_coeffs(n_hidden=20):\n",
    "    layer1 = (torch.rand(n_coeff, n_hidden)-0.5)/n_hidden\n",
    "    layer2 = torch.rand(n_hidden, 1)-0.3\n",
    "    const = torch.rand(1)[0]\n",
    "    return layer1.requires_grad_(),layer2.requires_grad_(),const.requires_grad_()"
   ]
  },
  {
   "cell_type": "markdown",
   "id": "17e6ec7c",
   "metadata": {
    "papermill": {
     "duration": 0.140293,
     "end_time": "2023-02-04T14:32:49.333593",
     "exception": false,
     "start_time": "2023-02-04T14:32:49.193300",
     "status": "completed"
    },
    "tags": []
   },
   "source": [
    "*ChatGPT*\n",
    "\n",
    "The init_coeffs function initializes the coefficients for the first (input to hidden) and second (hidden to output) layers of a neural network. The function takes an optional argument n_hidden, which specifies the number of hidden units in the hidden layer.\n",
    "\n",
    "The first layer coefficients, layer1, are randomly generated numbers between -0.5 and 0.5, and divided by n_hidden to make sure the magnitude of the coefficients are similar.\n",
    "\n",
    "The second layer coefficients, layer2, are randomly generated numbers between -0.3 and 0.3.\n",
    "\n",
    "The constant term, const, is also randomly generated.\n",
    "\n",
    "The requires_grad_ method is used to specify that the gradients of these tensors should be calculated during the backward pass."
   ]
  },
  {
   "cell_type": "markdown",
   "id": "338c5f4c",
   "metadata": {
    "papermill": {
     "duration": 0.14763,
     "end_time": "2023-02-04T14:32:49.618661",
     "exception": false,
     "start_time": "2023-02-04T14:32:49.471031",
     "status": "completed"
    },
    "tags": []
   },
   "source": [
    "Example to understand `torch.rand`:\n",
    "\n",
    "```\n",
    ">>> torch.rand(4)\n",
    "tensor([ 0.5204,  0.2503,  0.3525,  0.5673])\n",
    ">>> torch.rand(2, 3)\n",
    "tensor([[ 0.8237,  0.5781,  0.6879],\n",
    "        [ 0.3816,  0.7249,  0.0998]])\n",
    "```"
   ]
  },
  {
   "cell_type": "markdown",
   "id": "ca6cca47",
   "metadata": {
    "papermill": {
     "duration": 0.164979,
     "end_time": "2023-02-04T14:32:49.963118",
     "exception": false,
     "start_time": "2023-02-04T14:32:49.798139",
     "status": "completed"
    },
    "tags": []
   },
   "source": [
    "Now we have our coefficients, we can create our neural net. The key steps are the two matrix products, `indeps@l1` and `res@l2` (where `res` is the output of the first layer). The first layer output is passed to `F.relu` (that's our non-linearity), and the second is passed to `torch.sigmoid` as before."
   ]
  },
  {
   "cell_type": "code",
   "execution_count": 66,
   "id": "0132c438",
   "metadata": {
    "execution": {
     "iopub.execute_input": "2023-02-04T14:32:50.264402Z",
     "iopub.status.busy": "2023-02-04T14:32:50.264086Z",
     "iopub.status.idle": "2023-02-04T14:32:50.269594Z",
     "shell.execute_reply": "2023-02-04T14:32:50.268446Z"
    },
    "papermill": {
     "duration": 0.151233,
     "end_time": "2023-02-04T14:32:50.271584",
     "exception": false,
     "start_time": "2023-02-04T14:32:50.120351",
     "status": "completed"
    },
    "tags": []
   },
   "outputs": [],
   "source": [
    "import torch.nn.functional as F\n",
    "\n",
    "def calc_preds(coeffs, indeps):\n",
    "    l1,l2,const = coeffs\n",
    "    res = F.relu(indeps@l1)\n",
    "    res = res@l2 + const\n",
    "    return torch.sigmoid(res)"
   ]
  },
  {
   "cell_type": "markdown",
   "id": "85b7bb21",
   "metadata": {
    "papermill": {
     "duration": 0.139286,
     "end_time": "2023-02-04T14:32:50.552720",
     "exception": false,
     "start_time": "2023-02-04T14:32:50.413434",
     "status": "completed"
    },
    "tags": []
   },
   "source": [
    "*ChatGPT*\n",
    "\n",
    "The code above is importing the \"functional\" module from the \"nn\" package in PyTorch, and aliasing it as \"F\". This module provides a lot of activation functions, loss functions, and other utility functions used in building neural networks.\n",
    "\n",
    "The function \"calc_preds\" takes two inputs: \"coeffs\", which represents the coefficients or weights of the neural network layers, and \"indeps\", which represents the independent variables or features of the data.\n",
    "\n",
    "The function first unpacks the coefficients \"coeffs\" into three variables \"l1\", \"l2\", and \"const\". Then, it computes the dot product of \"indeps\" and \"l1\", and applies the Rectified Linear Unit (ReLU) activation function to the result. ReLU is one of the most widely used activation functions in deep learning, and it simply sets all negative values to zero.\n",
    "\n",
    "Next, the function computes the dot product of the result with \"l2\", and adds the constant term \"const\". Finally, it applies the sigmoid activation function to the result. The sigmoid function maps its input to a value between 0 and 1, which can be interpreted as a probability."
   ]
  },
  {
   "cell_type": "markdown",
   "id": "8e389978",
   "metadata": {
    "papermill": {
     "duration": 0.140089,
     "end_time": "2023-02-04T14:32:50.830845",
     "exception": false,
     "start_time": "2023-02-04T14:32:50.690756",
     "status": "completed"
    },
    "tags": []
   },
   "source": [
    "Finally, now that we have more than one set of coefficients, we need to add a loop to update each one:"
   ]
  },
  {
   "cell_type": "code",
   "execution_count": 67,
   "id": "183e281d",
   "metadata": {
    "execution": {
     "iopub.execute_input": "2023-02-04T14:32:51.116461Z",
     "iopub.status.busy": "2023-02-04T14:32:51.116157Z",
     "iopub.status.idle": "2023-02-04T14:32:51.120931Z",
     "shell.execute_reply": "2023-02-04T14:32:51.120047Z"
    },
    "papermill": {
     "duration": 0.149651,
     "end_time": "2023-02-04T14:32:51.123236",
     "exception": false,
     "start_time": "2023-02-04T14:32:50.973585",
     "status": "completed"
    },
    "tags": []
   },
   "outputs": [],
   "source": [
    "def update_coeffs(coeffs, lr):\n",
    "    for layer in coeffs:\n",
    "        layer.sub_(layer.grad * lr)\n",
    "        layer.grad.zero_()"
   ]
  },
  {
   "cell_type": "markdown",
   "id": "5f66e96c",
   "metadata": {
    "papermill": {
     "duration": 0.147608,
     "end_time": "2023-02-04T14:32:51.412069",
     "exception": false,
     "start_time": "2023-02-04T14:32:51.264461",
     "status": "completed"
    },
    "tags": []
   },
   "source": [
    "*ChatGPT*\n",
    "\n",
    "The update_coeffs function updates the values of the coefficients coeffs using gradient descent. The layer.sub_ line subtracts the product of the gradient of layer and the learning rate lr from layer. The line layer.grad.zero_() sets the gradient of layer to 0 so that it doesn't accumulate during multiple iterations of gradient descent."
   ]
  },
  {
   "cell_type": "markdown",
   "id": "9e8cb943",
   "metadata": {
    "papermill": {
     "duration": 0.148756,
     "end_time": "2023-02-04T14:32:51.701019",
     "exception": false,
     "start_time": "2023-02-04T14:32:51.552263",
     "status": "completed"
    },
    "tags": []
   },
   "source": [
    "That's it -- we're now ready to train our model!"
   ]
  },
  {
   "cell_type": "code",
   "execution_count": 68,
   "id": "8674d99d",
   "metadata": {
    "execution": {
     "iopub.execute_input": "2023-02-04T14:32:52.062594Z",
     "iopub.status.busy": "2023-02-04T14:32:52.062178Z",
     "iopub.status.idle": "2023-02-04T14:32:52.105333Z",
     "shell.execute_reply": "2023-02-04T14:32:52.104213Z"
    },
    "papermill": {
     "duration": 0.262015,
     "end_time": "2023-02-04T14:32:52.107572",
     "exception": false,
     "start_time": "2023-02-04T14:32:51.845557",
     "status": "completed"
    },
    "tags": []
   },
   "outputs": [
    {
     "name": "stdout",
     "output_type": "stream",
     "text": [
      "0.543; 0.532; 0.520; 0.505; 0.487; 0.466; 0.439; 0.407; 0.373; 0.343; 0.319; 0.301; 0.286; 0.274; 0.264; 0.256; 0.250; 0.245; 0.240; 0.237; 0.234; 0.231; 0.229; 0.227; 0.226; 0.224; 0.223; 0.222; 0.221; 0.220; "
     ]
    }
   ],
   "source": [
    "coeffs = train_model(lr=1.4)"
   ]
  },
  {
   "cell_type": "code",
   "execution_count": 69,
   "id": "39a96eda",
   "metadata": {
    "execution": {
     "iopub.execute_input": "2023-02-04T14:32:52.391286Z",
     "iopub.status.busy": "2023-02-04T14:32:52.390620Z",
     "iopub.status.idle": "2023-02-04T14:32:52.423108Z",
     "shell.execute_reply": "2023-02-04T14:32:52.422302Z"
    },
    "papermill": {
     "duration": 0.177265,
     "end_time": "2023-02-04T14:32:52.425745",
     "exception": false,
     "start_time": "2023-02-04T14:32:52.248480",
     "status": "completed"
    },
    "tags": []
   },
   "outputs": [
    {
     "name": "stdout",
     "output_type": "stream",
     "text": [
      "0.543; 0.400; 0.260; 0.390; 0.221; 0.211; 0.197; 0.195; 0.193; 0.193; 0.193; 0.193; 0.193; 0.193; 0.193; 0.193; 0.193; 0.192; 0.192; 0.192; 0.192; 0.192; 0.192; 0.192; 0.192; 0.192; 0.192; 0.192; 0.192; 0.192; "
     ]
    }
   ],
   "source": [
    "coeffs = train_model(lr=20)"
   ]
  },
  {
   "cell_type": "markdown",
   "id": "87ac737c",
   "metadata": {
    "papermill": {
     "duration": 0.141586,
     "end_time": "2023-02-04T14:32:52.707793",
     "exception": false,
     "start_time": "2023-02-04T14:32:52.566207",
     "status": "completed"
    },
    "tags": []
   },
   "source": [
    "It's looking good -- our loss is lower than before. Let's see if that translates to a better result on the validation set:"
   ]
  },
  {
   "cell_type": "code",
   "execution_count": 70,
   "id": "be256a1d",
   "metadata": {
    "execution": {
     "iopub.execute_input": "2023-02-04T14:32:53.006429Z",
     "iopub.status.busy": "2023-02-04T14:32:53.006085Z",
     "iopub.status.idle": "2023-02-04T14:32:53.013129Z",
     "shell.execute_reply": "2023-02-04T14:32:53.012444Z"
    },
    "papermill": {
     "duration": 0.154569,
     "end_time": "2023-02-04T14:32:53.015646",
     "exception": false,
     "start_time": "2023-02-04T14:32:52.861077",
     "status": "completed"
    },
    "tags": []
   },
   "outputs": [
    {
     "data": {
      "text/plain": [
       "tensor(0.8258)"
      ]
     },
     "execution_count": 70,
     "metadata": {},
     "output_type": "execute_result"
    }
   ],
   "source": [
    "acc(coeffs)"
   ]
  },
  {
   "cell_type": "markdown",
   "id": "b563eeb7",
   "metadata": {
    "papermill": {
     "duration": 0.141993,
     "end_time": "2023-02-04T14:32:53.306430",
     "exception": false,
     "start_time": "2023-02-04T14:32:53.164437",
     "status": "completed"
    },
    "tags": []
   },
   "source": [
    "In this case our neural net isn't showing better results than the linear model. That's not surprising; this dataset is very small and very simple, and isn't the kind of thing we'd expect to see neural networks excel at. Furthermore, our validation set is too small to reliably see much accuracy difference. But the key thing is that we now know exactly what a real neural net looks like!"
   ]
  },
  {
   "cell_type": "markdown",
   "id": "9540be3d",
   "metadata": {
    "papermill": {
     "duration": 0.139877,
     "end_time": "2023-02-04T14:32:53.591893",
     "exception": false,
     "start_time": "2023-02-04T14:32:53.452016",
     "status": "completed"
    },
    "tags": []
   },
   "source": [
    "## Deep learning"
   ]
  },
  {
   "cell_type": "markdown",
   "id": "482d8734",
   "metadata": {
    "papermill": {
     "duration": 0.139244,
     "end_time": "2023-02-04T14:32:53.871109",
     "exception": false,
     "start_time": "2023-02-04T14:32:53.731865",
     "status": "completed"
    },
    "tags": []
   },
   "source": [
    "The neural net in the previous section only uses one hidden layer, so it doesn't count as \"deep\" learning. But we can use the exact same technique to make our neural net deep, by adding more matrix multiplications.\n",
    "\n",
    "First, we'll need to create additional coefficients for each layer:"
   ]
  },
  {
   "cell_type": "code",
   "execution_count": 71,
   "id": "f0dfe755",
   "metadata": {
    "execution": {
     "iopub.execute_input": "2023-02-04T14:32:54.153670Z",
     "iopub.status.busy": "2023-02-04T14:32:54.153085Z",
     "iopub.status.idle": "2023-02-04T14:32:54.160719Z",
     "shell.execute_reply": "2023-02-04T14:32:54.159465Z"
    },
    "papermill": {
     "duration": 0.149832,
     "end_time": "2023-02-04T14:32:54.162885",
     "exception": false,
     "start_time": "2023-02-04T14:32:54.013053",
     "status": "completed"
    },
    "tags": []
   },
   "outputs": [],
   "source": [
    "def init_coeffs():\n",
    "    hiddens = [10, 10]  # <-- set this to the size of each hidden layer you want\n",
    "    sizes = [n_coeff] + hiddens + [1]\n",
    "    n = len(sizes)\n",
    "    layers = [(torch.rand(sizes[i], sizes[i+1])-0.3)/sizes[i+1]*4 for i in range(n-1)]\n",
    "    consts = [(torch.rand(1)[0]-0.5)*0.1 for i in range(n-1)]\n",
    "    for l in layers+consts: l.requires_grad_()\n",
    "    return layers,consts"
   ]
  },
  {
   "cell_type": "markdown",
   "id": "0b6345dc",
   "metadata": {
    "papermill": {
     "duration": 0.14063,
     "end_time": "2023-02-04T14:32:54.441341",
     "exception": false,
     "start_time": "2023-02-04T14:32:54.300711",
     "status": "completed"
    },
    "tags": []
   },
   "source": [
    "*ChatGPT*\n",
    "\n",
    "This function initializes the coefficients for a neural network with multiple hidden layers. `hiddens` is a list of integers representing the number of neurons in each hidden layer. `n_coeff` is the number of input variables. `sizes` is a list of integers representing the number of neurons in each layer, including the input and output layers. `n` is the number of layers in the network. `layers` is a list of weight matrices, one for each layer. The weight matrices are initialized randomly between -0.3 and 0.3 and are scaled by (sizes[i+1] * 4) to ensure appropriate scaling of inputs. `consts` is a list of bias terms, one for each layer, initialized randomly between -0.5 and 0.5 and scaled by 0.1. Both the weight matrices and bias terms are set to be trainable with requires_grad_(). The function returns a tuple of (layers, consts)."
   ]
  },
  {
   "cell_type": "markdown",
   "id": "6e27d6d1",
   "metadata": {
    "papermill": {
     "duration": 0.147602,
     "end_time": "2023-02-04T14:32:54.727144",
     "exception": false,
     "start_time": "2023-02-04T14:32:54.579542",
     "status": "completed"
    },
    "tags": []
   },
   "source": [
    "You'll notice here that there's a lot of messy constants to get the random numbers in just the right ranges. When you train the model in a moment, you'll see that the tiniest changes to these initialisations can cause our model to fail to train at all! This is a key reason that deep learning failed to make much progress in the early days -- it's very finicky to get a good starting point for our coefficients. Nowadays, we have ways to deal with that, which we'll learn about in other notebooks.\n",
    "\n",
    "Our deep learning `calc_preds` looks much the same as before, but now we loop through each layer, instead of listing them separately:"
   ]
  },
  {
   "cell_type": "code",
   "execution_count": 72,
   "id": "1019b65c",
   "metadata": {
    "execution": {
     "iopub.execute_input": "2023-02-04T14:32:55.065986Z",
     "iopub.status.busy": "2023-02-04T14:32:55.065489Z",
     "iopub.status.idle": "2023-02-04T14:32:55.071716Z",
     "shell.execute_reply": "2023-02-04T14:32:55.070669Z"
    },
    "papermill": {
     "duration": 0.15329,
     "end_time": "2023-02-04T14:32:55.074199",
     "exception": false,
     "start_time": "2023-02-04T14:32:54.920909",
     "status": "completed"
    },
    "tags": []
   },
   "outputs": [],
   "source": [
    "import torch.nn.functional as F\n",
    "\n",
    "def calc_preds(coeffs, indeps):\n",
    "    layers,consts = coeffs\n",
    "    n = len(layers)\n",
    "    res = indeps\n",
    "    for i,l in enumerate(layers):\n",
    "        res = res@l + consts[i]\n",
    "        if i!=n-1: res = F.relu(res)\n",
    "    return torch.sigmoid(res)"
   ]
  },
  {
   "cell_type": "markdown",
   "id": "1820fa39",
   "metadata": {
    "papermill": {
     "duration": 0.137514,
     "end_time": "2023-02-04T14:32:55.350738",
     "exception": false,
     "start_time": "2023-02-04T14:32:55.213224",
     "status": "completed"
    },
    "tags": []
   },
   "source": [
    "*ChatGPT*\n",
    "\n",
    "In this code, the function `calc_preds` implements a forward pass of a multi-layer neural network. The input to this function is a pair `coeffs` of two lists, one for the layers and one for the biases of the neural network, and a second input `indeps` which represents the independent variables of the data being passed through the network.\n",
    "\n",
    "The first step of the function is to unpack the `coeffs` input into two separate lists, `layers` and `consts`. layers contains the weight matrices for each layer of the network, while consts contains the bias values.\n",
    "\n",
    "Next, a loop is run over the layers, in which the matrix multiplication `res @ l + consts[i]` is performed between the output of the previous layer (`res`) and the current layer's weight matrix (`l`), followed by the addition of the current layer's bias (`consts[i]`). If the current layer is not the last layer, then the activation function `F.relu` is applied to the result of the matrix multiplication and addition, to introduce non-linearity into the network.\n",
    "\n",
    "Finally, the output of the last layer is passed through the `torch.sigmoid` function to ensure that the final prediction is a probability between 0 and 1. The final result of the function is this final output."
   ]
  },
  {
   "cell_type": "markdown",
   "id": "818f070a",
   "metadata": {
    "papermill": {
     "duration": 0.143058,
     "end_time": "2023-02-04T14:32:55.636719",
     "exception": false,
     "start_time": "2023-02-04T14:32:55.493661",
     "status": "completed"
    },
    "tags": []
   },
   "source": [
    "We also need a minor update to `update_coeffs` since we've got `layers` and `consts` separated now:"
   ]
  },
  {
   "cell_type": "code",
   "execution_count": 73,
   "id": "ef77fdf5",
   "metadata": {
    "execution": {
     "iopub.execute_input": "2023-02-04T14:32:55.930286Z",
     "iopub.status.busy": "2023-02-04T14:32:55.929734Z",
     "iopub.status.idle": "2023-02-04T14:32:55.935500Z",
     "shell.execute_reply": "2023-02-04T14:32:55.934513Z"
    },
    "papermill": {
     "duration": 0.16123,
     "end_time": "2023-02-04T14:32:55.938188",
     "exception": false,
     "start_time": "2023-02-04T14:32:55.776958",
     "status": "completed"
    },
    "tags": []
   },
   "outputs": [],
   "source": [
    "def update_coeffs(coeffs, lr):\n",
    "    layers,consts = coeffs\n",
    "    for layer in layers+consts:\n",
    "        layer.sub_(layer.grad * lr)\n",
    "        layer.grad.zero_()"
   ]
  },
  {
   "cell_type": "markdown",
   "id": "0c8b7f23",
   "metadata": {
    "papermill": {
     "duration": 0.138562,
     "end_time": "2023-02-04T14:32:56.219965",
     "exception": false,
     "start_time": "2023-02-04T14:32:56.081403",
     "status": "completed"
    },
    "tags": []
   },
   "source": [
    "Let's train our model..."
   ]
  },
  {
   "cell_type": "code",
   "execution_count": 74,
   "id": "b5f92e4a",
   "metadata": {
    "execution": {
     "iopub.execute_input": "2023-02-04T14:32:56.501950Z",
     "iopub.status.busy": "2023-02-04T14:32:56.501455Z",
     "iopub.status.idle": "2023-02-04T14:32:56.537729Z",
     "shell.execute_reply": "2023-02-04T14:32:56.536514Z"
    },
    "papermill": {
     "duration": 0.181025,
     "end_time": "2023-02-04T14:32:56.540064",
     "exception": false,
     "start_time": "2023-02-04T14:32:56.359039",
     "status": "completed"
    },
    "tags": []
   },
   "outputs": [
    {
     "name": "stdout",
     "output_type": "stream",
     "text": [
      "0.521; 0.483; 0.427; 0.379; 0.379; 0.379; 0.379; 0.378; 0.378; 0.378; 0.378; 0.378; 0.378; 0.378; 0.378; 0.378; 0.377; 0.376; 0.371; 0.333; 0.239; 0.224; 0.208; 0.204; 0.203; 0.203; 0.207; 0.197; 0.196; 0.195; "
     ]
    }
   ],
   "source": [
    "coeffs = train_model(lr=4)"
   ]
  },
  {
   "cell_type": "markdown",
   "id": "79c8733d",
   "metadata": {
    "papermill": {
     "duration": 0.146781,
     "end_time": "2023-02-04T14:32:56.835105",
     "exception": false,
     "start_time": "2023-02-04T14:32:56.688324",
     "status": "completed"
    },
    "tags": []
   },
   "source": [
    "...and check its accuracy:"
   ]
  },
  {
   "cell_type": "code",
   "execution_count": 75,
   "id": "265f54e7",
   "metadata": {
    "execution": {
     "iopub.execute_input": "2023-02-04T14:32:57.123012Z",
     "iopub.status.busy": "2023-02-04T14:32:57.122685Z",
     "iopub.status.idle": "2023-02-04T14:32:57.130806Z",
     "shell.execute_reply": "2023-02-04T14:32:57.129638Z"
    },
    "papermill": {
     "duration": 0.152382,
     "end_time": "2023-02-04T14:32:57.133356",
     "exception": false,
     "start_time": "2023-02-04T14:32:56.980974",
     "status": "completed"
    },
    "tags": []
   },
   "outputs": [
    {
     "data": {
      "text/plain": [
       "tensor(0.8258)"
      ]
     },
     "execution_count": 75,
     "metadata": {},
     "output_type": "execute_result"
    }
   ],
   "source": [
    "acc(coeffs)"
   ]
  },
  {
   "cell_type": "markdown",
   "id": "7e64a12a",
   "metadata": {
    "papermill": {
     "duration": 0.139931,
     "end_time": "2023-02-04T14:32:57.417515",
     "exception": false,
     "start_time": "2023-02-04T14:32:57.277584",
     "status": "completed"
    },
    "tags": []
   },
   "source": [
    "## Final thoughts"
   ]
  },
  {
   "cell_type": "markdown",
   "id": "57ca4fc3",
   "metadata": {
    "papermill": {
     "duration": 0.139357,
     "end_time": "2023-02-04T14:32:57.698254",
     "exception": false,
     "start_time": "2023-02-04T14:32:57.558897",
     "status": "completed"
    },
    "tags": []
   },
   "source": [
    "It's actually pretty cool that we've managed to create a real deep learning model from scratch and trained it to get over 80% accuracy on this task, all in the course of a single notebook!\n",
    "\n",
    "The \"real\" deep learning models that are used in research and industry look very similar to this, and in fact if you look inside the source code of any deep learning model you'll recognise the basic steps are the same.\n",
    "\n",
    "The biggest differences in practical models to what we have above are:\n",
    "\n",
    "- How initialisation and normalisation is done to ensure the model trains correctly every time\n",
    "- Regularization (to avoid over-fitting)\n",
    "- Modifying the neural net itself to take advantage of knowledge of the problem domain\n",
    "- Doing gradient descent steps on smaller batches, rather than the whole dataset.\n",
    "\n",
    "I'll be adding notebooks about all these later, and will add links here once they're ready.\n",
    "\n",
    "If you found this notebook useful, please remember to click the little up-arrow at the top to upvote it, since I like to know when people have found my work useful, and it helps others find it too. (BTW, be sure you're looking at my [original notebook here](https://www.kaggle.com/code/jhoward/linear-model-and-neural-net-from-scratch) when you do that, and are not on your own copy of it, otherwise your upvote won't get counted!) And if you have any questions or comments, please pop them below -- I read every comment I receive!"
   ]
  },
  {
   "cell_type": "code",
   "execution_count": null,
   "id": "49933377",
   "metadata": {
    "papermill": {
     "duration": 0.147543,
     "end_time": "2023-02-04T14:32:57.991966",
     "exception": false,
     "start_time": "2023-02-04T14:32:57.844423",
     "status": "completed"
    },
    "tags": []
   },
   "outputs": [],
   "source": []
  }
 ],
 "metadata": {
  "kernelspec": {
   "display_name": "Python 3",
   "language": "python",
   "name": "python3"
  },
  "language_info": {
   "codemirror_mode": {
    "name": "ipython",
    "version": 3
   },
   "file_extension": ".py",
   "mimetype": "text/x-python",
   "name": "python",
   "nbconvert_exporter": "python",
   "pygments_lexer": "ipython3",
   "version": "3.7.12"
  },
  "papermill": {
   "default_parameters": {},
   "duration": 67.379001,
   "end_time": "2023-02-04T14:32:59.253066",
   "environment_variables": {},
   "exception": null,
   "input_path": "__notebook__.ipynb",
   "output_path": "__notebook__.ipynb",
   "parameters": {},
   "start_time": "2023-02-04T14:31:51.874065",
   "version": "2.3.4"
  }
 },
 "nbformat": 4,
 "nbformat_minor": 5
}
